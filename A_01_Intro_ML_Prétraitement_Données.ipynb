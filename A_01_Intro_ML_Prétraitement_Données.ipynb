{
  "cells": [
    {
      "cell_type": "markdown",
      "metadata": {
        "id": "view-in-github",
        "colab_type": "text"
      },
      "source": [
        "<a href=\"https://colab.research.google.com/github/hodades/Machine-Learning/blob/main/A_01_Intro_ML_Pr%C3%A9traitement_Donn%C3%A9es.ipynb\" target=\"_parent\"><img src=\"https://colab.research.google.com/assets/colab-badge.svg\" alt=\"Open In Colab\"/></a>"
      ]
    },
    {
      "cell_type": "markdown",
      "id": "e59b37c4-2cec-4686-b21f-f21449fcc78b",
      "metadata": {
        "id": "e59b37c4-2cec-4686-b21f-f21449fcc78b"
      },
      "source": [
        "# **Introduction au Machine Learning et Prétraitement des Données**"
      ]
    },
    {
      "cell_type": "markdown",
      "id": "98117008-5d4c-4540-a6bd-366cc9f41e30",
      "metadata": {
        "id": "98117008-5d4c-4540-a6bd-366cc9f41e30"
      },
      "source": [
        "---\n",
        "\n",
        "## **Introduction**\n",
        "\n",
        "Bienvenue dans le premier module de notre cours d'Introduction au Machine Learning et Prétraitement des Données. Dans ce notebook, nous allons aborder les bases du Machine Learning, apprendre comment organiser notre travail de manière efficace, et explorer en profondeur les données pour mieux comprendre leur structure et les préparer pour la modélisation.\n",
        "\n",
        "## **Objectifs**\n",
        "\n",
        "À la fin de cette séance, vous serez capable de :\n",
        "1. Decouvrire les applications du Machine Learning.\n",
        "2. Organiser votre environnement de travail pour une gestion optimale des données et du code.\n",
        "3. Explorer et analyser les données pour en tirer des insights initiaux.\n",
        "4. Appliquer des techniques de prétraitement de données telles que la gestion des valeurs manquantes, l’encodage des variables, la gestion des valeurs aberrantes, la normalisation, et d'autres transformations.\n",
        "\n",
        "---\n"
      ]
    },
    {
      "cell_type": "markdown",
      "id": "5f406fa6-cd56-4800-91b3-ec7aa806fb2e",
      "metadata": {
        "jp-MarkdownHeadingCollapsed": true,
        "tags": [],
        "id": "5f406fa6-cd56-4800-91b3-ec7aa806fb2e"
      },
      "source": [
        "## **1. Introduction au Machine Learning**"
      ]
    },
    {
      "cell_type": "markdown",
      "id": "af49e338-c647-4dd3-a786-2daf9b03c167",
      "metadata": {
        "id": "af49e338-c647-4dd3-a786-2daf9b03c167"
      },
      "source": [
        "### Définition\n",
        "\n",
        "Le **Machine Learning (ML)**, ou apprentissage automatique, est une branche de l'intelligence artificielle qui permet aux machines d'apprendre à partir de données. L’objectif du Machine Learning est de construire des modèles capables de réaliser des tâches spécifiques (comme des prédictions ou des classifications) en analysant des données, sans être explicitement programmés pour chaque tâche.\n",
        "\n",
        "**Exemples d'applications business** :\n",
        "- **Prédiction de churn client** : Prédire si un client risque de quitter une entreprise, pour orienter les actions de fidélisation.\n",
        "- **Scoring de crédit** : Évaluer le risque associé à l’octroi de crédit.\n",
        "- **Recommandation de produits** : Systèmes de recommandation utilisés par les plateformes e-commerce.\n",
        "\n",
        "**Question** :\n",
        "Pouvez-vous penser à d'autres applications du Machine Learning qui seraient utiles dans le contexte de l’entreprise ?\n",
        "---"
      ]
    },
    {
      "cell_type": "markdown",
      "id": "2b0b4922-e429-4ff5-aeff-472c0164dbe2",
      "metadata": {
        "id": "2b0b4922-e429-4ff5-aeff-472c0164dbe2"
      },
      "source": [
        "### Workflow Typique de Création d’un Modèle de Machine Learning\n",
        "\n",
        "Un modèle de Machine Learning suit généralement les étapes suivantes :\n",
        "1. **Définition de l’objectif** : Identifier la tâche (classification, régression, etc.).\n",
        "2. **Exploration des données** : Étudier les données disponibles pour comprendre leur structure et leurs caractéristiques.\n",
        "3. **Prétraitement des données** : Nettoyer et transformer les données pour les rendre exploitables.\n",
        "4. **Entraînement du modèle** : Choisir et entraîner un algorithme de Machine Learning.\n",
        "5. **Évaluation et amélioration** : Mesurer les performances du modèle et apporter des améliorations si nécessaire.\n",
        "\n",
        "---"
      ]
    },
    {
      "cell_type": "markdown",
      "id": "6efa2688-16b5-4ae7-8edb-87dcd3fe69a0",
      "metadata": {
        "tags": [],
        "id": "6efa2688-16b5-4ae7-8edb-87dcd3fe69a0"
      },
      "source": [
        "## **2. Organisation de l’Environnement de Travail**"
      ]
    },
    {
      "cell_type": "markdown",
      "id": "e1d26cf8-22ab-46a2-a244-1d4612525212",
      "metadata": {
        "id": "e1d26cf8-22ab-46a2-a244-1d4612525212"
      },
      "source": [
        "Pour bien gérer vos données, notebooks, et scripts, il est recommandé d’organiser votre répertoire de travail de manière structurée.\n",
        "\n",
        "### Structure du Répertoire\n",
        "\n",
        "Voici une structure recommandée :\n",
        "- **notebooks/** : Contient les notebooks Jupyter pour chaque module.\n",
        "- **data/** : Contient les fichiers de données à utiliser dans le projet. Stockez tous les jeux de données ici pour une meilleure organisation.\n",
        "- **scripts/** : Contient les fichiers `.py` avec des fonctions ou du code réutilisable.\n",
        "\n",
        "Par exemple, si notre dataset `titanic.csv` est stocké dans le dossier `data` au même niveau que `notebooks`, on peut l’appeler en utilisant le chemin relatif `../data/titanic.csv`.\n",
        "\n",
        "---"
      ]
    },
    {
      "cell_type": "markdown",
      "id": "255c9e31-ca58-4bee-b320-903efa7b4e30",
      "metadata": {
        "tags": [],
        "id": "255c9e31-ca58-4bee-b320-903efa7b4e30"
      },
      "source": [
        "## **3. Exploration des Données**"
      ]
    },
    {
      "cell_type": "markdown",
      "id": "a1b701f4-57ea-4518-b954-c138240d3684",
      "metadata": {
        "id": "a1b701f4-57ea-4518-b954-c138240d3684"
      },
      "source": [
        "### Définition\n",
        "\n",
        "L'**exploration des données** (Exploratory Data Analysis - EDA) est le processus d'examen approfondi d'un jeu de données pour comprendre sa structure, identifier des patterns, et détecter des anomalies ou des valeurs aberrantes. L'objectif de l'EDA est de préparer la base pour les étapes de prétraitement et de modélisation.\n",
        "\n",
        "### Objectifs de l’Exploration des Données\n",
        "\n",
        "- **Comprendre la structure des données** : Observer les variables présentes, leur type (numérique, catégoriel) et leur distribution.\n",
        "- **Identifier les valeurs manquantes et aberrantes** : Détecter les données incomplètes et les valeurs extrêmes, qui peuvent fausser l'analyse.\n",
        "- **Déterminer les transformations nécessaires** : Décider des étapes de nettoyage et de transformation des données pour rendre les données exploitables.\n",
        "\n",
        "### Outils et Méthodes Utilisés\n",
        "\n",
        "Pour l'exploration des données, nous allons utiliser les bibliothèques :\n",
        "- **Pandas** pour charger et manipuler les données.\n",
        "- **Matplotlib et Seaborn** pour visualiser les distributions et les relations entre variables.\n",
        "\n",
        "---"
      ]
    },
    {
      "cell_type": "markdown",
      "id": "380c01cf-cad4-477a-8497-fea02c66ff9f",
      "metadata": {
        "id": "380c01cf-cad4-477a-8497-fea02c66ff9f"
      },
      "source": [
        "### **Extraction des Données**\n",
        "\n",
        "Nous allons commencer par charger le dataset `titanic.csv`, qui contient des informations sur les passagers du Titanic.\n",
        "\n",
        "**Instructions** :\n",
        "1. Importez les bibliothèques **Pandas** et **NumPy**.\n",
        "2. Chargez le dataset en utilisant `pd.read_csv()` et affichez les premières lignes avec `.head()` pour voir un aperçu.\n"
      ]
    },
    {
      "cell_type": "code",
      "source": [
        "import pandas as pd\n",
        "import numpy as np\n",
        "import matplotlib.pyplot as plt\n",
        "import seaborn as sns"
      ],
      "metadata": {
        "id": "hBqhwBJFZQ06"
      },
      "id": "hBqhwBJFZQ06",
      "execution_count": 47,
      "outputs": []
    },
    {
      "cell_type": "code",
      "execution_count": 48,
      "id": "985ac426-ea93-4acd-9cf1-4573e162cf4e",
      "metadata": {
        "id": "985ac426-ea93-4acd-9cf1-4573e162cf4e"
      },
      "outputs": [],
      "source": [
        "url = \"https://raw.githubusercontent.com/datasciencedojo/datasets/master/titanic.csv\"\n",
        "df = pd.read_csv(url)"
      ]
    },
    {
      "cell_type": "code",
      "execution_count": 49,
      "id": "e9ed8c09-6bf9-4b63-aae3-87f022164053",
      "metadata": {
        "colab": {
          "base_uri": "https://localhost:8080/",
          "height": 206
        },
        "id": "e9ed8c09-6bf9-4b63-aae3-87f022164053",
        "outputId": "0129c05c-9dfb-48b7-c63d-4e317ae3cfd7"
      },
      "outputs": [
        {
          "output_type": "execute_result",
          "data": {
            "text/plain": [
              "   PassengerId  Survived  Pclass  \\\n",
              "0            1         0       3   \n",
              "1            2         1       1   \n",
              "2            3         1       3   \n",
              "3            4         1       1   \n",
              "4            5         0       3   \n",
              "\n",
              "                                                Name     Sex   Age  SibSp  \\\n",
              "0                            Braund, Mr. Owen Harris    male  22.0      1   \n",
              "1  Cumings, Mrs. John Bradley (Florence Briggs Th...  female  38.0      1   \n",
              "2                             Heikkinen, Miss. Laina  female  26.0      0   \n",
              "3       Futrelle, Mrs. Jacques Heath (Lily May Peel)  female  35.0      1   \n",
              "4                           Allen, Mr. William Henry    male  35.0      0   \n",
              "\n",
              "   Parch            Ticket     Fare Cabin Embarked  \n",
              "0      0         A/5 21171   7.2500   NaN        S  \n",
              "1      0          PC 17599  71.2833   C85        C  \n",
              "2      0  STON/O2. 3101282   7.9250   NaN        S  \n",
              "3      0            113803  53.1000  C123        S  \n",
              "4      0            373450   8.0500   NaN        S  "
            ],
            "text/html": [
              "\n",
              "  <div id=\"df-538b65d8-16f1-4438-bac0-a82cd5ecce1d\" class=\"colab-df-container\">\n",
              "    <div>\n",
              "<style scoped>\n",
              "    .dataframe tbody tr th:only-of-type {\n",
              "        vertical-align: middle;\n",
              "    }\n",
              "\n",
              "    .dataframe tbody tr th {\n",
              "        vertical-align: top;\n",
              "    }\n",
              "\n",
              "    .dataframe thead th {\n",
              "        text-align: right;\n",
              "    }\n",
              "</style>\n",
              "<table border=\"1\" class=\"dataframe\">\n",
              "  <thead>\n",
              "    <tr style=\"text-align: right;\">\n",
              "      <th></th>\n",
              "      <th>PassengerId</th>\n",
              "      <th>Survived</th>\n",
              "      <th>Pclass</th>\n",
              "      <th>Name</th>\n",
              "      <th>Sex</th>\n",
              "      <th>Age</th>\n",
              "      <th>SibSp</th>\n",
              "      <th>Parch</th>\n",
              "      <th>Ticket</th>\n",
              "      <th>Fare</th>\n",
              "      <th>Cabin</th>\n",
              "      <th>Embarked</th>\n",
              "    </tr>\n",
              "  </thead>\n",
              "  <tbody>\n",
              "    <tr>\n",
              "      <th>0</th>\n",
              "      <td>1</td>\n",
              "      <td>0</td>\n",
              "      <td>3</td>\n",
              "      <td>Braund, Mr. Owen Harris</td>\n",
              "      <td>male</td>\n",
              "      <td>22.0</td>\n",
              "      <td>1</td>\n",
              "      <td>0</td>\n",
              "      <td>A/5 21171</td>\n",
              "      <td>7.2500</td>\n",
              "      <td>NaN</td>\n",
              "      <td>S</td>\n",
              "    </tr>\n",
              "    <tr>\n",
              "      <th>1</th>\n",
              "      <td>2</td>\n",
              "      <td>1</td>\n",
              "      <td>1</td>\n",
              "      <td>Cumings, Mrs. John Bradley (Florence Briggs Th...</td>\n",
              "      <td>female</td>\n",
              "      <td>38.0</td>\n",
              "      <td>1</td>\n",
              "      <td>0</td>\n",
              "      <td>PC 17599</td>\n",
              "      <td>71.2833</td>\n",
              "      <td>C85</td>\n",
              "      <td>C</td>\n",
              "    </tr>\n",
              "    <tr>\n",
              "      <th>2</th>\n",
              "      <td>3</td>\n",
              "      <td>1</td>\n",
              "      <td>3</td>\n",
              "      <td>Heikkinen, Miss. Laina</td>\n",
              "      <td>female</td>\n",
              "      <td>26.0</td>\n",
              "      <td>0</td>\n",
              "      <td>0</td>\n",
              "      <td>STON/O2. 3101282</td>\n",
              "      <td>7.9250</td>\n",
              "      <td>NaN</td>\n",
              "      <td>S</td>\n",
              "    </tr>\n",
              "    <tr>\n",
              "      <th>3</th>\n",
              "      <td>4</td>\n",
              "      <td>1</td>\n",
              "      <td>1</td>\n",
              "      <td>Futrelle, Mrs. Jacques Heath (Lily May Peel)</td>\n",
              "      <td>female</td>\n",
              "      <td>35.0</td>\n",
              "      <td>1</td>\n",
              "      <td>0</td>\n",
              "      <td>113803</td>\n",
              "      <td>53.1000</td>\n",
              "      <td>C123</td>\n",
              "      <td>S</td>\n",
              "    </tr>\n",
              "    <tr>\n",
              "      <th>4</th>\n",
              "      <td>5</td>\n",
              "      <td>0</td>\n",
              "      <td>3</td>\n",
              "      <td>Allen, Mr. William Henry</td>\n",
              "      <td>male</td>\n",
              "      <td>35.0</td>\n",
              "      <td>0</td>\n",
              "      <td>0</td>\n",
              "      <td>373450</td>\n",
              "      <td>8.0500</td>\n",
              "      <td>NaN</td>\n",
              "      <td>S</td>\n",
              "    </tr>\n",
              "  </tbody>\n",
              "</table>\n",
              "</div>\n",
              "    <div class=\"colab-df-buttons\">\n",
              "\n",
              "  <div class=\"colab-df-container\">\n",
              "    <button class=\"colab-df-convert\" onclick=\"convertToInteractive('df-538b65d8-16f1-4438-bac0-a82cd5ecce1d')\"\n",
              "            title=\"Convert this dataframe to an interactive table.\"\n",
              "            style=\"display:none;\">\n",
              "\n",
              "  <svg xmlns=\"http://www.w3.org/2000/svg\" height=\"24px\" viewBox=\"0 -960 960 960\">\n",
              "    <path d=\"M120-120v-720h720v720H120Zm60-500h600v-160H180v160Zm220 220h160v-160H400v160Zm0 220h160v-160H400v160ZM180-400h160v-160H180v160Zm440 0h160v-160H620v160ZM180-180h160v-160H180v160Zm440 0h160v-160H620v160Z\"/>\n",
              "  </svg>\n",
              "    </button>\n",
              "\n",
              "  <style>\n",
              "    .colab-df-container {\n",
              "      display:flex;\n",
              "      gap: 12px;\n",
              "    }\n",
              "\n",
              "    .colab-df-convert {\n",
              "      background-color: #E8F0FE;\n",
              "      border: none;\n",
              "      border-radius: 50%;\n",
              "      cursor: pointer;\n",
              "      display: none;\n",
              "      fill: #1967D2;\n",
              "      height: 32px;\n",
              "      padding: 0 0 0 0;\n",
              "      width: 32px;\n",
              "    }\n",
              "\n",
              "    .colab-df-convert:hover {\n",
              "      background-color: #E2EBFA;\n",
              "      box-shadow: 0px 1px 2px rgba(60, 64, 67, 0.3), 0px 1px 3px 1px rgba(60, 64, 67, 0.15);\n",
              "      fill: #174EA6;\n",
              "    }\n",
              "\n",
              "    .colab-df-buttons div {\n",
              "      margin-bottom: 4px;\n",
              "    }\n",
              "\n",
              "    [theme=dark] .colab-df-convert {\n",
              "      background-color: #3B4455;\n",
              "      fill: #D2E3FC;\n",
              "    }\n",
              "\n",
              "    [theme=dark] .colab-df-convert:hover {\n",
              "      background-color: #434B5C;\n",
              "      box-shadow: 0px 1px 3px 1px rgba(0, 0, 0, 0.15);\n",
              "      filter: drop-shadow(0px 1px 2px rgba(0, 0, 0, 0.3));\n",
              "      fill: #FFFFFF;\n",
              "    }\n",
              "  </style>\n",
              "\n",
              "    <script>\n",
              "      const buttonEl =\n",
              "        document.querySelector('#df-538b65d8-16f1-4438-bac0-a82cd5ecce1d button.colab-df-convert');\n",
              "      buttonEl.style.display =\n",
              "        google.colab.kernel.accessAllowed ? 'block' : 'none';\n",
              "\n",
              "      async function convertToInteractive(key) {\n",
              "        const element = document.querySelector('#df-538b65d8-16f1-4438-bac0-a82cd5ecce1d');\n",
              "        const dataTable =\n",
              "          await google.colab.kernel.invokeFunction('convertToInteractive',\n",
              "                                                    [key], {});\n",
              "        if (!dataTable) return;\n",
              "\n",
              "        const docLinkHtml = 'Like what you see? Visit the ' +\n",
              "          '<a target=\"_blank\" href=https://colab.research.google.com/notebooks/data_table.ipynb>data table notebook</a>'\n",
              "          + ' to learn more about interactive tables.';\n",
              "        element.innerHTML = '';\n",
              "        dataTable['output_type'] = 'display_data';\n",
              "        await google.colab.output.renderOutput(dataTable, element);\n",
              "        const docLink = document.createElement('div');\n",
              "        docLink.innerHTML = docLinkHtml;\n",
              "        element.appendChild(docLink);\n",
              "      }\n",
              "    </script>\n",
              "  </div>\n",
              "\n",
              "\n",
              "<div id=\"df-3b2c8ce6-fcc1-4441-b237-661244c23ead\">\n",
              "  <button class=\"colab-df-quickchart\" onclick=\"quickchart('df-3b2c8ce6-fcc1-4441-b237-661244c23ead')\"\n",
              "            title=\"Suggest charts\"\n",
              "            style=\"display:none;\">\n",
              "\n",
              "<svg xmlns=\"http://www.w3.org/2000/svg\" height=\"24px\"viewBox=\"0 0 24 24\"\n",
              "     width=\"24px\">\n",
              "    <g>\n",
              "        <path d=\"M19 3H5c-1.1 0-2 .9-2 2v14c0 1.1.9 2 2 2h14c1.1 0 2-.9 2-2V5c0-1.1-.9-2-2-2zM9 17H7v-7h2v7zm4 0h-2V7h2v10zm4 0h-2v-4h2v4z\"/>\n",
              "    </g>\n",
              "</svg>\n",
              "  </button>\n",
              "\n",
              "<style>\n",
              "  .colab-df-quickchart {\n",
              "      --bg-color: #E8F0FE;\n",
              "      --fill-color: #1967D2;\n",
              "      --hover-bg-color: #E2EBFA;\n",
              "      --hover-fill-color: #174EA6;\n",
              "      --disabled-fill-color: #AAA;\n",
              "      --disabled-bg-color: #DDD;\n",
              "  }\n",
              "\n",
              "  [theme=dark] .colab-df-quickchart {\n",
              "      --bg-color: #3B4455;\n",
              "      --fill-color: #D2E3FC;\n",
              "      --hover-bg-color: #434B5C;\n",
              "      --hover-fill-color: #FFFFFF;\n",
              "      --disabled-bg-color: #3B4455;\n",
              "      --disabled-fill-color: #666;\n",
              "  }\n",
              "\n",
              "  .colab-df-quickchart {\n",
              "    background-color: var(--bg-color);\n",
              "    border: none;\n",
              "    border-radius: 50%;\n",
              "    cursor: pointer;\n",
              "    display: none;\n",
              "    fill: var(--fill-color);\n",
              "    height: 32px;\n",
              "    padding: 0;\n",
              "    width: 32px;\n",
              "  }\n",
              "\n",
              "  .colab-df-quickchart:hover {\n",
              "    background-color: var(--hover-bg-color);\n",
              "    box-shadow: 0 1px 2px rgba(60, 64, 67, 0.3), 0 1px 3px 1px rgba(60, 64, 67, 0.15);\n",
              "    fill: var(--button-hover-fill-color);\n",
              "  }\n",
              "\n",
              "  .colab-df-quickchart-complete:disabled,\n",
              "  .colab-df-quickchart-complete:disabled:hover {\n",
              "    background-color: var(--disabled-bg-color);\n",
              "    fill: var(--disabled-fill-color);\n",
              "    box-shadow: none;\n",
              "  }\n",
              "\n",
              "  .colab-df-spinner {\n",
              "    border: 2px solid var(--fill-color);\n",
              "    border-color: transparent;\n",
              "    border-bottom-color: var(--fill-color);\n",
              "    animation:\n",
              "      spin 1s steps(1) infinite;\n",
              "  }\n",
              "\n",
              "  @keyframes spin {\n",
              "    0% {\n",
              "      border-color: transparent;\n",
              "      border-bottom-color: var(--fill-color);\n",
              "      border-left-color: var(--fill-color);\n",
              "    }\n",
              "    20% {\n",
              "      border-color: transparent;\n",
              "      border-left-color: var(--fill-color);\n",
              "      border-top-color: var(--fill-color);\n",
              "    }\n",
              "    30% {\n",
              "      border-color: transparent;\n",
              "      border-left-color: var(--fill-color);\n",
              "      border-top-color: var(--fill-color);\n",
              "      border-right-color: var(--fill-color);\n",
              "    }\n",
              "    40% {\n",
              "      border-color: transparent;\n",
              "      border-right-color: var(--fill-color);\n",
              "      border-top-color: var(--fill-color);\n",
              "    }\n",
              "    60% {\n",
              "      border-color: transparent;\n",
              "      border-right-color: var(--fill-color);\n",
              "    }\n",
              "    80% {\n",
              "      border-color: transparent;\n",
              "      border-right-color: var(--fill-color);\n",
              "      border-bottom-color: var(--fill-color);\n",
              "    }\n",
              "    90% {\n",
              "      border-color: transparent;\n",
              "      border-bottom-color: var(--fill-color);\n",
              "    }\n",
              "  }\n",
              "</style>\n",
              "\n",
              "  <script>\n",
              "    async function quickchart(key) {\n",
              "      const quickchartButtonEl =\n",
              "        document.querySelector('#' + key + ' button');\n",
              "      quickchartButtonEl.disabled = true;  // To prevent multiple clicks.\n",
              "      quickchartButtonEl.classList.add('colab-df-spinner');\n",
              "      try {\n",
              "        const charts = await google.colab.kernel.invokeFunction(\n",
              "            'suggestCharts', [key], {});\n",
              "      } catch (error) {\n",
              "        console.error('Error during call to suggestCharts:', error);\n",
              "      }\n",
              "      quickchartButtonEl.classList.remove('colab-df-spinner');\n",
              "      quickchartButtonEl.classList.add('colab-df-quickchart-complete');\n",
              "    }\n",
              "    (() => {\n",
              "      let quickchartButtonEl =\n",
              "        document.querySelector('#df-3b2c8ce6-fcc1-4441-b237-661244c23ead button');\n",
              "      quickchartButtonEl.style.display =\n",
              "        google.colab.kernel.accessAllowed ? 'block' : 'none';\n",
              "    })();\n",
              "  </script>\n",
              "</div>\n",
              "\n",
              "    </div>\n",
              "  </div>\n"
            ],
            "application/vnd.google.colaboratory.intrinsic+json": {
              "type": "dataframe",
              "variable_name": "df",
              "summary": "{\n  \"name\": \"df\",\n  \"rows\": 891,\n  \"fields\": [\n    {\n      \"column\": \"PassengerId\",\n      \"properties\": {\n        \"dtype\": \"number\",\n        \"std\": 257,\n        \"min\": 1,\n        \"max\": 891,\n        \"num_unique_values\": 891,\n        \"samples\": [\n          710,\n          440,\n          841\n        ],\n        \"semantic_type\": \"\",\n        \"description\": \"\"\n      }\n    },\n    {\n      \"column\": \"Survived\",\n      \"properties\": {\n        \"dtype\": \"number\",\n        \"std\": 0,\n        \"min\": 0,\n        \"max\": 1,\n        \"num_unique_values\": 2,\n        \"samples\": [\n          1,\n          0\n        ],\n        \"semantic_type\": \"\",\n        \"description\": \"\"\n      }\n    },\n    {\n      \"column\": \"Pclass\",\n      \"properties\": {\n        \"dtype\": \"number\",\n        \"std\": 0,\n        \"min\": 1,\n        \"max\": 3,\n        \"num_unique_values\": 3,\n        \"samples\": [\n          3,\n          1\n        ],\n        \"semantic_type\": \"\",\n        \"description\": \"\"\n      }\n    },\n    {\n      \"column\": \"Name\",\n      \"properties\": {\n        \"dtype\": \"string\",\n        \"num_unique_values\": 891,\n        \"samples\": [\n          \"Moubarek, Master. Halim Gonios (\\\"William George\\\")\",\n          \"Kvillner, Mr. Johan Henrik Johannesson\"\n        ],\n        \"semantic_type\": \"\",\n        \"description\": \"\"\n      }\n    },\n    {\n      \"column\": \"Sex\",\n      \"properties\": {\n        \"dtype\": \"category\",\n        \"num_unique_values\": 2,\n        \"samples\": [\n          \"female\",\n          \"male\"\n        ],\n        \"semantic_type\": \"\",\n        \"description\": \"\"\n      }\n    },\n    {\n      \"column\": \"Age\",\n      \"properties\": {\n        \"dtype\": \"number\",\n        \"std\": 14.526497332334044,\n        \"min\": 0.42,\n        \"max\": 80.0,\n        \"num_unique_values\": 88,\n        \"samples\": [\n          0.75,\n          22.0\n        ],\n        \"semantic_type\": \"\",\n        \"description\": \"\"\n      }\n    },\n    {\n      \"column\": \"SibSp\",\n      \"properties\": {\n        \"dtype\": \"number\",\n        \"std\": 1,\n        \"min\": 0,\n        \"max\": 8,\n        \"num_unique_values\": 7,\n        \"samples\": [\n          1,\n          0\n        ],\n        \"semantic_type\": \"\",\n        \"description\": \"\"\n      }\n    },\n    {\n      \"column\": \"Parch\",\n      \"properties\": {\n        \"dtype\": \"number\",\n        \"std\": 0,\n        \"min\": 0,\n        \"max\": 6,\n        \"num_unique_values\": 7,\n        \"samples\": [\n          0,\n          1\n        ],\n        \"semantic_type\": \"\",\n        \"description\": \"\"\n      }\n    },\n    {\n      \"column\": \"Ticket\",\n      \"properties\": {\n        \"dtype\": \"string\",\n        \"num_unique_values\": 681,\n        \"samples\": [\n          \"11774\",\n          \"248740\"\n        ],\n        \"semantic_type\": \"\",\n        \"description\": \"\"\n      }\n    },\n    {\n      \"column\": \"Fare\",\n      \"properties\": {\n        \"dtype\": \"number\",\n        \"std\": 49.693428597180905,\n        \"min\": 0.0,\n        \"max\": 512.3292,\n        \"num_unique_values\": 248,\n        \"samples\": [\n          11.2417,\n          51.8625\n        ],\n        \"semantic_type\": \"\",\n        \"description\": \"\"\n      }\n    },\n    {\n      \"column\": \"Cabin\",\n      \"properties\": {\n        \"dtype\": \"category\",\n        \"num_unique_values\": 147,\n        \"samples\": [\n          \"D45\",\n          \"B49\"\n        ],\n        \"semantic_type\": \"\",\n        \"description\": \"\"\n      }\n    },\n    {\n      \"column\": \"Embarked\",\n      \"properties\": {\n        \"dtype\": \"category\",\n        \"num_unique_values\": 3,\n        \"samples\": [\n          \"S\",\n          \"C\"\n        ],\n        \"semantic_type\": \"\",\n        \"description\": \"\"\n      }\n    }\n  ]\n}"
            }
          },
          "metadata": {},
          "execution_count": 49
        }
      ],
      "source": [
        "# Insérez votre code ici pour afficher les dimensions et les types de données\n",
        "df.head()"
      ]
    },
    {
      "cell_type": "markdown",
      "id": "a0a2e0cb-72e6-48fa-b665-cd98aae61269",
      "metadata": {
        "id": "a0a2e0cb-72e6-48fa-b665-cd98aae61269"
      },
      "source": [
        "**Question** : En observant les premières lignes du dataset, que représentent les différentes colonnes ? Quels types de données semble-t-il y avoir dans ce dataset (numériques, catégorielles, etc.) ?"
      ]
    },
    {
      "cell_type": "markdown",
      "source": [
        "==> Le dataset contient des données numériques (ex: `Age`, `Fare`, `Pclass`) et catégorielles (ex: `Sex`, `Embarked`, `Cabin`). Les colonnes représentent des informations sur les passagers, telles que l'identifiant, le nom, le genre, et la classe."
      ],
      "metadata": {
        "id": "RU_cpuj5gMwF"
      },
      "id": "RU_cpuj5gMwF"
    },
    {
      "cell_type": "markdown",
      "id": "b707f88c-3f2d-4f76-9385-096820490b85",
      "metadata": {
        "id": "b707f88c-3f2d-4f76-9385-096820490b85"
      },
      "source": [
        "---\n",
        "\n",
        "### **Analyse Exploratoire des Données**\n",
        "\n",
        "#### 1. **Dimensions et Types de Données** :\n",
        "   - Utilisez `.shape` pour voir les dimensions du dataset et `.info()` pour obtenir des informations sur les types de données."
      ]
    },
    {
      "cell_type": "code",
      "source": [
        "df.info()"
      ],
      "metadata": {
        "colab": {
          "base_uri": "https://localhost:8080/"
        },
        "id": "_airqkEYaapD",
        "outputId": "91cd729b-6fd7-4c02-ebd9-a265c137e4eb"
      },
      "id": "_airqkEYaapD",
      "execution_count": 50,
      "outputs": [
        {
          "output_type": "stream",
          "name": "stdout",
          "text": [
            "<class 'pandas.core.frame.DataFrame'>\n",
            "RangeIndex: 891 entries, 0 to 890\n",
            "Data columns (total 12 columns):\n",
            " #   Column       Non-Null Count  Dtype  \n",
            "---  ------       --------------  -----  \n",
            " 0   PassengerId  891 non-null    int64  \n",
            " 1   Survived     891 non-null    int64  \n",
            " 2   Pclass       891 non-null    int64  \n",
            " 3   Name         891 non-null    object \n",
            " 4   Sex          891 non-null    object \n",
            " 5   Age          714 non-null    float64\n",
            " 6   SibSp        891 non-null    int64  \n",
            " 7   Parch        891 non-null    int64  \n",
            " 8   Ticket       891 non-null    object \n",
            " 9   Fare         891 non-null    float64\n",
            " 10  Cabin        204 non-null    object \n",
            " 11  Embarked     889 non-null    object \n",
            "dtypes: float64(2), int64(5), object(5)\n",
            "memory usage: 83.7+ KB\n"
          ]
        }
      ]
    },
    {
      "cell_type": "code",
      "source": [
        "df.shape"
      ],
      "metadata": {
        "colab": {
          "base_uri": "https://localhost:8080/"
        },
        "id": "c0-VbgjrgWYC",
        "outputId": "69cabc40-1789-4184-bb21-092568d89eb4"
      },
      "id": "c0-VbgjrgWYC",
      "execution_count": 51,
      "outputs": [
        {
          "output_type": "execute_result",
          "data": {
            "text/plain": [
              "(891, 12)"
            ]
          },
          "metadata": {},
          "execution_count": 51
        }
      ]
    },
    {
      "cell_type": "markdown",
      "id": "4d0d492c-3f99-4bc4-8187-6a11e662b5c6",
      "metadata": {
        "id": "4d0d492c-3f99-4bc4-8187-6a11e662b5c6"
      },
      "source": [
        "**Questions** :\n",
        "   - Combien de colonnes et de lignes contient ce dataset ? Qu’est-ce que cela nous indique sur sa taille ?\n",
        "   - Quels types de données sont présents ? Pourquoi est-il important de connaître les types avant de commencer l’analyse ?"
      ]
    },
    {
      "cell_type": "markdown",
      "id": "2b9b2b08-a954-469b-8a79-54094c5843cd",
      "metadata": {
        "id": "2b9b2b08-a954-469b-8a79-54094c5843cd"
      },
      "source": [
        "#### 2. **Statistiques Descriptives - Variables Numériques** :\n",
        "   - Utilisez `.describe()` pour obtenir des statistiques sur les variables numériques (moyenne, écart-type, etc.).\n"
      ]
    },
    {
      "cell_type": "code",
      "execution_count": 52,
      "id": "e5ad0b4e-8257-4d70-a866-2a92956ac3a5",
      "metadata": {
        "colab": {
          "base_uri": "https://localhost:8080/",
          "height": 300
        },
        "id": "e5ad0b4e-8257-4d70-a866-2a92956ac3a5",
        "outputId": "a06cc117-ea99-4594-a4e5-589632766412"
      },
      "outputs": [
        {
          "output_type": "execute_result",
          "data": {
            "text/plain": [
              "       PassengerId    Survived      Pclass         Age       SibSp  \\\n",
              "count   891.000000  891.000000  891.000000  714.000000  891.000000   \n",
              "mean    446.000000    0.383838    2.308642   29.699118    0.523008   \n",
              "std     257.353842    0.486592    0.836071   14.526497    1.102743   \n",
              "min       1.000000    0.000000    1.000000    0.420000    0.000000   \n",
              "25%     223.500000    0.000000    2.000000   20.125000    0.000000   \n",
              "50%     446.000000    0.000000    3.000000   28.000000    0.000000   \n",
              "75%     668.500000    1.000000    3.000000   38.000000    1.000000   \n",
              "max     891.000000    1.000000    3.000000   80.000000    8.000000   \n",
              "\n",
              "            Parch        Fare  \n",
              "count  891.000000  891.000000  \n",
              "mean     0.381594   32.204208  \n",
              "std      0.806057   49.693429  \n",
              "min      0.000000    0.000000  \n",
              "25%      0.000000    7.910400  \n",
              "50%      0.000000   14.454200  \n",
              "75%      0.000000   31.000000  \n",
              "max      6.000000  512.329200  "
            ],
            "text/html": [
              "\n",
              "  <div id=\"df-f7225776-e8f3-4878-bd51-857122ec46fa\" class=\"colab-df-container\">\n",
              "    <div>\n",
              "<style scoped>\n",
              "    .dataframe tbody tr th:only-of-type {\n",
              "        vertical-align: middle;\n",
              "    }\n",
              "\n",
              "    .dataframe tbody tr th {\n",
              "        vertical-align: top;\n",
              "    }\n",
              "\n",
              "    .dataframe thead th {\n",
              "        text-align: right;\n",
              "    }\n",
              "</style>\n",
              "<table border=\"1\" class=\"dataframe\">\n",
              "  <thead>\n",
              "    <tr style=\"text-align: right;\">\n",
              "      <th></th>\n",
              "      <th>PassengerId</th>\n",
              "      <th>Survived</th>\n",
              "      <th>Pclass</th>\n",
              "      <th>Age</th>\n",
              "      <th>SibSp</th>\n",
              "      <th>Parch</th>\n",
              "      <th>Fare</th>\n",
              "    </tr>\n",
              "  </thead>\n",
              "  <tbody>\n",
              "    <tr>\n",
              "      <th>count</th>\n",
              "      <td>891.000000</td>\n",
              "      <td>891.000000</td>\n",
              "      <td>891.000000</td>\n",
              "      <td>714.000000</td>\n",
              "      <td>891.000000</td>\n",
              "      <td>891.000000</td>\n",
              "      <td>891.000000</td>\n",
              "    </tr>\n",
              "    <tr>\n",
              "      <th>mean</th>\n",
              "      <td>446.000000</td>\n",
              "      <td>0.383838</td>\n",
              "      <td>2.308642</td>\n",
              "      <td>29.699118</td>\n",
              "      <td>0.523008</td>\n",
              "      <td>0.381594</td>\n",
              "      <td>32.204208</td>\n",
              "    </tr>\n",
              "    <tr>\n",
              "      <th>std</th>\n",
              "      <td>257.353842</td>\n",
              "      <td>0.486592</td>\n",
              "      <td>0.836071</td>\n",
              "      <td>14.526497</td>\n",
              "      <td>1.102743</td>\n",
              "      <td>0.806057</td>\n",
              "      <td>49.693429</td>\n",
              "    </tr>\n",
              "    <tr>\n",
              "      <th>min</th>\n",
              "      <td>1.000000</td>\n",
              "      <td>0.000000</td>\n",
              "      <td>1.000000</td>\n",
              "      <td>0.420000</td>\n",
              "      <td>0.000000</td>\n",
              "      <td>0.000000</td>\n",
              "      <td>0.000000</td>\n",
              "    </tr>\n",
              "    <tr>\n",
              "      <th>25%</th>\n",
              "      <td>223.500000</td>\n",
              "      <td>0.000000</td>\n",
              "      <td>2.000000</td>\n",
              "      <td>20.125000</td>\n",
              "      <td>0.000000</td>\n",
              "      <td>0.000000</td>\n",
              "      <td>7.910400</td>\n",
              "    </tr>\n",
              "    <tr>\n",
              "      <th>50%</th>\n",
              "      <td>446.000000</td>\n",
              "      <td>0.000000</td>\n",
              "      <td>3.000000</td>\n",
              "      <td>28.000000</td>\n",
              "      <td>0.000000</td>\n",
              "      <td>0.000000</td>\n",
              "      <td>14.454200</td>\n",
              "    </tr>\n",
              "    <tr>\n",
              "      <th>75%</th>\n",
              "      <td>668.500000</td>\n",
              "      <td>1.000000</td>\n",
              "      <td>3.000000</td>\n",
              "      <td>38.000000</td>\n",
              "      <td>1.000000</td>\n",
              "      <td>0.000000</td>\n",
              "      <td>31.000000</td>\n",
              "    </tr>\n",
              "    <tr>\n",
              "      <th>max</th>\n",
              "      <td>891.000000</td>\n",
              "      <td>1.000000</td>\n",
              "      <td>3.000000</td>\n",
              "      <td>80.000000</td>\n",
              "      <td>8.000000</td>\n",
              "      <td>6.000000</td>\n",
              "      <td>512.329200</td>\n",
              "    </tr>\n",
              "  </tbody>\n",
              "</table>\n",
              "</div>\n",
              "    <div class=\"colab-df-buttons\">\n",
              "\n",
              "  <div class=\"colab-df-container\">\n",
              "    <button class=\"colab-df-convert\" onclick=\"convertToInteractive('df-f7225776-e8f3-4878-bd51-857122ec46fa')\"\n",
              "            title=\"Convert this dataframe to an interactive table.\"\n",
              "            style=\"display:none;\">\n",
              "\n",
              "  <svg xmlns=\"http://www.w3.org/2000/svg\" height=\"24px\" viewBox=\"0 -960 960 960\">\n",
              "    <path d=\"M120-120v-720h720v720H120Zm60-500h600v-160H180v160Zm220 220h160v-160H400v160Zm0 220h160v-160H400v160ZM180-400h160v-160H180v160Zm440 0h160v-160H620v160ZM180-180h160v-160H180v160Zm440 0h160v-160H620v160Z\"/>\n",
              "  </svg>\n",
              "    </button>\n",
              "\n",
              "  <style>\n",
              "    .colab-df-container {\n",
              "      display:flex;\n",
              "      gap: 12px;\n",
              "    }\n",
              "\n",
              "    .colab-df-convert {\n",
              "      background-color: #E8F0FE;\n",
              "      border: none;\n",
              "      border-radius: 50%;\n",
              "      cursor: pointer;\n",
              "      display: none;\n",
              "      fill: #1967D2;\n",
              "      height: 32px;\n",
              "      padding: 0 0 0 0;\n",
              "      width: 32px;\n",
              "    }\n",
              "\n",
              "    .colab-df-convert:hover {\n",
              "      background-color: #E2EBFA;\n",
              "      box-shadow: 0px 1px 2px rgba(60, 64, 67, 0.3), 0px 1px 3px 1px rgba(60, 64, 67, 0.15);\n",
              "      fill: #174EA6;\n",
              "    }\n",
              "\n",
              "    .colab-df-buttons div {\n",
              "      margin-bottom: 4px;\n",
              "    }\n",
              "\n",
              "    [theme=dark] .colab-df-convert {\n",
              "      background-color: #3B4455;\n",
              "      fill: #D2E3FC;\n",
              "    }\n",
              "\n",
              "    [theme=dark] .colab-df-convert:hover {\n",
              "      background-color: #434B5C;\n",
              "      box-shadow: 0px 1px 3px 1px rgba(0, 0, 0, 0.15);\n",
              "      filter: drop-shadow(0px 1px 2px rgba(0, 0, 0, 0.3));\n",
              "      fill: #FFFFFF;\n",
              "    }\n",
              "  </style>\n",
              "\n",
              "    <script>\n",
              "      const buttonEl =\n",
              "        document.querySelector('#df-f7225776-e8f3-4878-bd51-857122ec46fa button.colab-df-convert');\n",
              "      buttonEl.style.display =\n",
              "        google.colab.kernel.accessAllowed ? 'block' : 'none';\n",
              "\n",
              "      async function convertToInteractive(key) {\n",
              "        const element = document.querySelector('#df-f7225776-e8f3-4878-bd51-857122ec46fa');\n",
              "        const dataTable =\n",
              "          await google.colab.kernel.invokeFunction('convertToInteractive',\n",
              "                                                    [key], {});\n",
              "        if (!dataTable) return;\n",
              "\n",
              "        const docLinkHtml = 'Like what you see? Visit the ' +\n",
              "          '<a target=\"_blank\" href=https://colab.research.google.com/notebooks/data_table.ipynb>data table notebook</a>'\n",
              "          + ' to learn more about interactive tables.';\n",
              "        element.innerHTML = '';\n",
              "        dataTable['output_type'] = 'display_data';\n",
              "        await google.colab.output.renderOutput(dataTable, element);\n",
              "        const docLink = document.createElement('div');\n",
              "        docLink.innerHTML = docLinkHtml;\n",
              "        element.appendChild(docLink);\n",
              "      }\n",
              "    </script>\n",
              "  </div>\n",
              "\n",
              "\n",
              "<div id=\"df-e025e2c7-099b-457f-b527-2bc33732ffb1\">\n",
              "  <button class=\"colab-df-quickchart\" onclick=\"quickchart('df-e025e2c7-099b-457f-b527-2bc33732ffb1')\"\n",
              "            title=\"Suggest charts\"\n",
              "            style=\"display:none;\">\n",
              "\n",
              "<svg xmlns=\"http://www.w3.org/2000/svg\" height=\"24px\"viewBox=\"0 0 24 24\"\n",
              "     width=\"24px\">\n",
              "    <g>\n",
              "        <path d=\"M19 3H5c-1.1 0-2 .9-2 2v14c0 1.1.9 2 2 2h14c1.1 0 2-.9 2-2V5c0-1.1-.9-2-2-2zM9 17H7v-7h2v7zm4 0h-2V7h2v10zm4 0h-2v-4h2v4z\"/>\n",
              "    </g>\n",
              "</svg>\n",
              "  </button>\n",
              "\n",
              "<style>\n",
              "  .colab-df-quickchart {\n",
              "      --bg-color: #E8F0FE;\n",
              "      --fill-color: #1967D2;\n",
              "      --hover-bg-color: #E2EBFA;\n",
              "      --hover-fill-color: #174EA6;\n",
              "      --disabled-fill-color: #AAA;\n",
              "      --disabled-bg-color: #DDD;\n",
              "  }\n",
              "\n",
              "  [theme=dark] .colab-df-quickchart {\n",
              "      --bg-color: #3B4455;\n",
              "      --fill-color: #D2E3FC;\n",
              "      --hover-bg-color: #434B5C;\n",
              "      --hover-fill-color: #FFFFFF;\n",
              "      --disabled-bg-color: #3B4455;\n",
              "      --disabled-fill-color: #666;\n",
              "  }\n",
              "\n",
              "  .colab-df-quickchart {\n",
              "    background-color: var(--bg-color);\n",
              "    border: none;\n",
              "    border-radius: 50%;\n",
              "    cursor: pointer;\n",
              "    display: none;\n",
              "    fill: var(--fill-color);\n",
              "    height: 32px;\n",
              "    padding: 0;\n",
              "    width: 32px;\n",
              "  }\n",
              "\n",
              "  .colab-df-quickchart:hover {\n",
              "    background-color: var(--hover-bg-color);\n",
              "    box-shadow: 0 1px 2px rgba(60, 64, 67, 0.3), 0 1px 3px 1px rgba(60, 64, 67, 0.15);\n",
              "    fill: var(--button-hover-fill-color);\n",
              "  }\n",
              "\n",
              "  .colab-df-quickchart-complete:disabled,\n",
              "  .colab-df-quickchart-complete:disabled:hover {\n",
              "    background-color: var(--disabled-bg-color);\n",
              "    fill: var(--disabled-fill-color);\n",
              "    box-shadow: none;\n",
              "  }\n",
              "\n",
              "  .colab-df-spinner {\n",
              "    border: 2px solid var(--fill-color);\n",
              "    border-color: transparent;\n",
              "    border-bottom-color: var(--fill-color);\n",
              "    animation:\n",
              "      spin 1s steps(1) infinite;\n",
              "  }\n",
              "\n",
              "  @keyframes spin {\n",
              "    0% {\n",
              "      border-color: transparent;\n",
              "      border-bottom-color: var(--fill-color);\n",
              "      border-left-color: var(--fill-color);\n",
              "    }\n",
              "    20% {\n",
              "      border-color: transparent;\n",
              "      border-left-color: var(--fill-color);\n",
              "      border-top-color: var(--fill-color);\n",
              "    }\n",
              "    30% {\n",
              "      border-color: transparent;\n",
              "      border-left-color: var(--fill-color);\n",
              "      border-top-color: var(--fill-color);\n",
              "      border-right-color: var(--fill-color);\n",
              "    }\n",
              "    40% {\n",
              "      border-color: transparent;\n",
              "      border-right-color: var(--fill-color);\n",
              "      border-top-color: var(--fill-color);\n",
              "    }\n",
              "    60% {\n",
              "      border-color: transparent;\n",
              "      border-right-color: var(--fill-color);\n",
              "    }\n",
              "    80% {\n",
              "      border-color: transparent;\n",
              "      border-right-color: var(--fill-color);\n",
              "      border-bottom-color: var(--fill-color);\n",
              "    }\n",
              "    90% {\n",
              "      border-color: transparent;\n",
              "      border-bottom-color: var(--fill-color);\n",
              "    }\n",
              "  }\n",
              "</style>\n",
              "\n",
              "  <script>\n",
              "    async function quickchart(key) {\n",
              "      const quickchartButtonEl =\n",
              "        document.querySelector('#' + key + ' button');\n",
              "      quickchartButtonEl.disabled = true;  // To prevent multiple clicks.\n",
              "      quickchartButtonEl.classList.add('colab-df-spinner');\n",
              "      try {\n",
              "        const charts = await google.colab.kernel.invokeFunction(\n",
              "            'suggestCharts', [key], {});\n",
              "      } catch (error) {\n",
              "        console.error('Error during call to suggestCharts:', error);\n",
              "      }\n",
              "      quickchartButtonEl.classList.remove('colab-df-spinner');\n",
              "      quickchartButtonEl.classList.add('colab-df-quickchart-complete');\n",
              "    }\n",
              "    (() => {\n",
              "      let quickchartButtonEl =\n",
              "        document.querySelector('#df-e025e2c7-099b-457f-b527-2bc33732ffb1 button');\n",
              "      quickchartButtonEl.style.display =\n",
              "        google.colab.kernel.accessAllowed ? 'block' : 'none';\n",
              "    })();\n",
              "  </script>\n",
              "</div>\n",
              "\n",
              "    </div>\n",
              "  </div>\n"
            ],
            "application/vnd.google.colaboratory.intrinsic+json": {
              "type": "dataframe",
              "summary": "{\n  \"name\": \"df\",\n  \"rows\": 8,\n  \"fields\": [\n    {\n      \"column\": \"PassengerId\",\n      \"properties\": {\n        \"dtype\": \"number\",\n        \"std\": 320.8159711429856,\n        \"min\": 1.0,\n        \"max\": 891.0,\n        \"num_unique_values\": 6,\n        \"samples\": [\n          891.0,\n          446.0,\n          668.5\n        ],\n        \"semantic_type\": \"\",\n        \"description\": \"\"\n      }\n    },\n    {\n      \"column\": \"Survived\",\n      \"properties\": {\n        \"dtype\": \"number\",\n        \"std\": 314.8713661874558,\n        \"min\": 0.0,\n        \"max\": 891.0,\n        \"num_unique_values\": 5,\n        \"samples\": [\n          0.3838383838383838,\n          1.0,\n          0.4865924542648585\n        ],\n        \"semantic_type\": \"\",\n        \"description\": \"\"\n      }\n    },\n    {\n      \"column\": \"Pclass\",\n      \"properties\": {\n        \"dtype\": \"number\",\n        \"std\": 314.2523437079693,\n        \"min\": 0.8360712409770513,\n        \"max\": 891.0,\n        \"num_unique_values\": 6,\n        \"samples\": [\n          891.0,\n          2.308641975308642,\n          3.0\n        ],\n        \"semantic_type\": \"\",\n        \"description\": \"\"\n      }\n    },\n    {\n      \"column\": \"Age\",\n      \"properties\": {\n        \"dtype\": \"number\",\n        \"std\": 242.9056731818781,\n        \"min\": 0.42,\n        \"max\": 714.0,\n        \"num_unique_values\": 8,\n        \"samples\": [\n          29.69911764705882,\n          28.0,\n          714.0\n        ],\n        \"semantic_type\": \"\",\n        \"description\": \"\"\n      }\n    },\n    {\n      \"column\": \"SibSp\",\n      \"properties\": {\n        \"dtype\": \"number\",\n        \"std\": 314.4908277465442,\n        \"min\": 0.0,\n        \"max\": 891.0,\n        \"num_unique_values\": 6,\n        \"samples\": [\n          891.0,\n          0.5230078563411896,\n          8.0\n        ],\n        \"semantic_type\": \"\",\n        \"description\": \"\"\n      }\n    },\n    {\n      \"column\": \"Parch\",\n      \"properties\": {\n        \"dtype\": \"number\",\n        \"std\": 314.65971717879,\n        \"min\": 0.0,\n        \"max\": 891.0,\n        \"num_unique_values\": 5,\n        \"samples\": [\n          0.38159371492704824,\n          6.0,\n          0.8060572211299559\n        ],\n        \"semantic_type\": \"\",\n        \"description\": \"\"\n      }\n    },\n    {\n      \"column\": \"Fare\",\n      \"properties\": {\n        \"dtype\": \"number\",\n        \"std\": 330.6256632228577,\n        \"min\": 0.0,\n        \"max\": 891.0,\n        \"num_unique_values\": 8,\n        \"samples\": [\n          32.204207968574636,\n          14.4542,\n          891.0\n        ],\n        \"semantic_type\": \"\",\n        \"description\": \"\"\n      }\n    }\n  ]\n}"
            }
          },
          "metadata": {},
          "execution_count": 52
        }
      ],
      "source": [
        "# Insérez votre code ici pour les statistiques descriptives des variables numériques\n",
        "df.describe()"
      ]
    },
    {
      "cell_type": "markdown",
      "id": "3a50941e-92ee-48a8-a161-c2cd3ed9adb9",
      "metadata": {
        "id": "3a50941e-92ee-48a8-a161-c2cd3ed9adb9"
      },
      "source": [
        "**Questions** :\n",
        "   - Que représentent les valeurs de sortie pour chaque statistique ?\n",
        "   - Pouvez-vous identifier des valeurs extrêmes ou des anomalies potentielles ?\n"
      ]
    },
    {
      "cell_type": "markdown",
      "id": "8212a3a1-64f2-4425-8d31-739aa8425b9c",
      "metadata": {
        "tags": [],
        "id": "8212a3a1-64f2-4425-8d31-739aa8425b9c"
      },
      "source": [
        "#### 3. **Statistiques Descriptives - Variables Catégorielles** :\n",
        "   - Utilisez `.describe(include=['O'])` pour obtenir des statistiques descriptives sur les variables catégorielles (type `object`)."
      ]
    },
    {
      "cell_type": "code",
      "execution_count": 53,
      "id": "35cfea48-e17f-4320-8a76-1871e5a0b2d9",
      "metadata": {
        "colab": {
          "base_uri": "https://localhost:8080/",
          "height": 175
        },
        "id": "35cfea48-e17f-4320-8a76-1871e5a0b2d9",
        "outputId": "ccc339e3-ddcb-401f-dd49-3b163c7cd00c"
      },
      "outputs": [
        {
          "output_type": "execute_result",
          "data": {
            "text/plain": [
              "                           Name   Sex  Ticket    Cabin Embarked\n",
              "count                       891   891     891      204      889\n",
              "unique                      891     2     681      147        3\n",
              "top     Braund, Mr. Owen Harris  male  347082  B96 B98        S\n",
              "freq                          1   577       7        4      644"
            ],
            "text/html": [
              "\n",
              "  <div id=\"df-fc541cb5-2afa-4b61-b55f-bab5b9ebacfc\" class=\"colab-df-container\">\n",
              "    <div>\n",
              "<style scoped>\n",
              "    .dataframe tbody tr th:only-of-type {\n",
              "        vertical-align: middle;\n",
              "    }\n",
              "\n",
              "    .dataframe tbody tr th {\n",
              "        vertical-align: top;\n",
              "    }\n",
              "\n",
              "    .dataframe thead th {\n",
              "        text-align: right;\n",
              "    }\n",
              "</style>\n",
              "<table border=\"1\" class=\"dataframe\">\n",
              "  <thead>\n",
              "    <tr style=\"text-align: right;\">\n",
              "      <th></th>\n",
              "      <th>Name</th>\n",
              "      <th>Sex</th>\n",
              "      <th>Ticket</th>\n",
              "      <th>Cabin</th>\n",
              "      <th>Embarked</th>\n",
              "    </tr>\n",
              "  </thead>\n",
              "  <tbody>\n",
              "    <tr>\n",
              "      <th>count</th>\n",
              "      <td>891</td>\n",
              "      <td>891</td>\n",
              "      <td>891</td>\n",
              "      <td>204</td>\n",
              "      <td>889</td>\n",
              "    </tr>\n",
              "    <tr>\n",
              "      <th>unique</th>\n",
              "      <td>891</td>\n",
              "      <td>2</td>\n",
              "      <td>681</td>\n",
              "      <td>147</td>\n",
              "      <td>3</td>\n",
              "    </tr>\n",
              "    <tr>\n",
              "      <th>top</th>\n",
              "      <td>Braund, Mr. Owen Harris</td>\n",
              "      <td>male</td>\n",
              "      <td>347082</td>\n",
              "      <td>B96 B98</td>\n",
              "      <td>S</td>\n",
              "    </tr>\n",
              "    <tr>\n",
              "      <th>freq</th>\n",
              "      <td>1</td>\n",
              "      <td>577</td>\n",
              "      <td>7</td>\n",
              "      <td>4</td>\n",
              "      <td>644</td>\n",
              "    </tr>\n",
              "  </tbody>\n",
              "</table>\n",
              "</div>\n",
              "    <div class=\"colab-df-buttons\">\n",
              "\n",
              "  <div class=\"colab-df-container\">\n",
              "    <button class=\"colab-df-convert\" onclick=\"convertToInteractive('df-fc541cb5-2afa-4b61-b55f-bab5b9ebacfc')\"\n",
              "            title=\"Convert this dataframe to an interactive table.\"\n",
              "            style=\"display:none;\">\n",
              "\n",
              "  <svg xmlns=\"http://www.w3.org/2000/svg\" height=\"24px\" viewBox=\"0 -960 960 960\">\n",
              "    <path d=\"M120-120v-720h720v720H120Zm60-500h600v-160H180v160Zm220 220h160v-160H400v160Zm0 220h160v-160H400v160ZM180-400h160v-160H180v160Zm440 0h160v-160H620v160ZM180-180h160v-160H180v160Zm440 0h160v-160H620v160Z\"/>\n",
              "  </svg>\n",
              "    </button>\n",
              "\n",
              "  <style>\n",
              "    .colab-df-container {\n",
              "      display:flex;\n",
              "      gap: 12px;\n",
              "    }\n",
              "\n",
              "    .colab-df-convert {\n",
              "      background-color: #E8F0FE;\n",
              "      border: none;\n",
              "      border-radius: 50%;\n",
              "      cursor: pointer;\n",
              "      display: none;\n",
              "      fill: #1967D2;\n",
              "      height: 32px;\n",
              "      padding: 0 0 0 0;\n",
              "      width: 32px;\n",
              "    }\n",
              "\n",
              "    .colab-df-convert:hover {\n",
              "      background-color: #E2EBFA;\n",
              "      box-shadow: 0px 1px 2px rgba(60, 64, 67, 0.3), 0px 1px 3px 1px rgba(60, 64, 67, 0.15);\n",
              "      fill: #174EA6;\n",
              "    }\n",
              "\n",
              "    .colab-df-buttons div {\n",
              "      margin-bottom: 4px;\n",
              "    }\n",
              "\n",
              "    [theme=dark] .colab-df-convert {\n",
              "      background-color: #3B4455;\n",
              "      fill: #D2E3FC;\n",
              "    }\n",
              "\n",
              "    [theme=dark] .colab-df-convert:hover {\n",
              "      background-color: #434B5C;\n",
              "      box-shadow: 0px 1px 3px 1px rgba(0, 0, 0, 0.15);\n",
              "      filter: drop-shadow(0px 1px 2px rgba(0, 0, 0, 0.3));\n",
              "      fill: #FFFFFF;\n",
              "    }\n",
              "  </style>\n",
              "\n",
              "    <script>\n",
              "      const buttonEl =\n",
              "        document.querySelector('#df-fc541cb5-2afa-4b61-b55f-bab5b9ebacfc button.colab-df-convert');\n",
              "      buttonEl.style.display =\n",
              "        google.colab.kernel.accessAllowed ? 'block' : 'none';\n",
              "\n",
              "      async function convertToInteractive(key) {\n",
              "        const element = document.querySelector('#df-fc541cb5-2afa-4b61-b55f-bab5b9ebacfc');\n",
              "        const dataTable =\n",
              "          await google.colab.kernel.invokeFunction('convertToInteractive',\n",
              "                                                    [key], {});\n",
              "        if (!dataTable) return;\n",
              "\n",
              "        const docLinkHtml = 'Like what you see? Visit the ' +\n",
              "          '<a target=\"_blank\" href=https://colab.research.google.com/notebooks/data_table.ipynb>data table notebook</a>'\n",
              "          + ' to learn more about interactive tables.';\n",
              "        element.innerHTML = '';\n",
              "        dataTable['output_type'] = 'display_data';\n",
              "        await google.colab.output.renderOutput(dataTable, element);\n",
              "        const docLink = document.createElement('div');\n",
              "        docLink.innerHTML = docLinkHtml;\n",
              "        element.appendChild(docLink);\n",
              "      }\n",
              "    </script>\n",
              "  </div>\n",
              "\n",
              "\n",
              "<div id=\"df-8afc529c-e2de-4c1f-9d26-2d027ea56349\">\n",
              "  <button class=\"colab-df-quickchart\" onclick=\"quickchart('df-8afc529c-e2de-4c1f-9d26-2d027ea56349')\"\n",
              "            title=\"Suggest charts\"\n",
              "            style=\"display:none;\">\n",
              "\n",
              "<svg xmlns=\"http://www.w3.org/2000/svg\" height=\"24px\"viewBox=\"0 0 24 24\"\n",
              "     width=\"24px\">\n",
              "    <g>\n",
              "        <path d=\"M19 3H5c-1.1 0-2 .9-2 2v14c0 1.1.9 2 2 2h14c1.1 0 2-.9 2-2V5c0-1.1-.9-2-2-2zM9 17H7v-7h2v7zm4 0h-2V7h2v10zm4 0h-2v-4h2v4z\"/>\n",
              "    </g>\n",
              "</svg>\n",
              "  </button>\n",
              "\n",
              "<style>\n",
              "  .colab-df-quickchart {\n",
              "      --bg-color: #E8F0FE;\n",
              "      --fill-color: #1967D2;\n",
              "      --hover-bg-color: #E2EBFA;\n",
              "      --hover-fill-color: #174EA6;\n",
              "      --disabled-fill-color: #AAA;\n",
              "      --disabled-bg-color: #DDD;\n",
              "  }\n",
              "\n",
              "  [theme=dark] .colab-df-quickchart {\n",
              "      --bg-color: #3B4455;\n",
              "      --fill-color: #D2E3FC;\n",
              "      --hover-bg-color: #434B5C;\n",
              "      --hover-fill-color: #FFFFFF;\n",
              "      --disabled-bg-color: #3B4455;\n",
              "      --disabled-fill-color: #666;\n",
              "  }\n",
              "\n",
              "  .colab-df-quickchart {\n",
              "    background-color: var(--bg-color);\n",
              "    border: none;\n",
              "    border-radius: 50%;\n",
              "    cursor: pointer;\n",
              "    display: none;\n",
              "    fill: var(--fill-color);\n",
              "    height: 32px;\n",
              "    padding: 0;\n",
              "    width: 32px;\n",
              "  }\n",
              "\n",
              "  .colab-df-quickchart:hover {\n",
              "    background-color: var(--hover-bg-color);\n",
              "    box-shadow: 0 1px 2px rgba(60, 64, 67, 0.3), 0 1px 3px 1px rgba(60, 64, 67, 0.15);\n",
              "    fill: var(--button-hover-fill-color);\n",
              "  }\n",
              "\n",
              "  .colab-df-quickchart-complete:disabled,\n",
              "  .colab-df-quickchart-complete:disabled:hover {\n",
              "    background-color: var(--disabled-bg-color);\n",
              "    fill: var(--disabled-fill-color);\n",
              "    box-shadow: none;\n",
              "  }\n",
              "\n",
              "  .colab-df-spinner {\n",
              "    border: 2px solid var(--fill-color);\n",
              "    border-color: transparent;\n",
              "    border-bottom-color: var(--fill-color);\n",
              "    animation:\n",
              "      spin 1s steps(1) infinite;\n",
              "  }\n",
              "\n",
              "  @keyframes spin {\n",
              "    0% {\n",
              "      border-color: transparent;\n",
              "      border-bottom-color: var(--fill-color);\n",
              "      border-left-color: var(--fill-color);\n",
              "    }\n",
              "    20% {\n",
              "      border-color: transparent;\n",
              "      border-left-color: var(--fill-color);\n",
              "      border-top-color: var(--fill-color);\n",
              "    }\n",
              "    30% {\n",
              "      border-color: transparent;\n",
              "      border-left-color: var(--fill-color);\n",
              "      border-top-color: var(--fill-color);\n",
              "      border-right-color: var(--fill-color);\n",
              "    }\n",
              "    40% {\n",
              "      border-color: transparent;\n",
              "      border-right-color: var(--fill-color);\n",
              "      border-top-color: var(--fill-color);\n",
              "    }\n",
              "    60% {\n",
              "      border-color: transparent;\n",
              "      border-right-color: var(--fill-color);\n",
              "    }\n",
              "    80% {\n",
              "      border-color: transparent;\n",
              "      border-right-color: var(--fill-color);\n",
              "      border-bottom-color: var(--fill-color);\n",
              "    }\n",
              "    90% {\n",
              "      border-color: transparent;\n",
              "      border-bottom-color: var(--fill-color);\n",
              "    }\n",
              "  }\n",
              "</style>\n",
              "\n",
              "  <script>\n",
              "    async function quickchart(key) {\n",
              "      const quickchartButtonEl =\n",
              "        document.querySelector('#' + key + ' button');\n",
              "      quickchartButtonEl.disabled = true;  // To prevent multiple clicks.\n",
              "      quickchartButtonEl.classList.add('colab-df-spinner');\n",
              "      try {\n",
              "        const charts = await google.colab.kernel.invokeFunction(\n",
              "            'suggestCharts', [key], {});\n",
              "      } catch (error) {\n",
              "        console.error('Error during call to suggestCharts:', error);\n",
              "      }\n",
              "      quickchartButtonEl.classList.remove('colab-df-spinner');\n",
              "      quickchartButtonEl.classList.add('colab-df-quickchart-complete');\n",
              "    }\n",
              "    (() => {\n",
              "      let quickchartButtonEl =\n",
              "        document.querySelector('#df-8afc529c-e2de-4c1f-9d26-2d027ea56349 button');\n",
              "      quickchartButtonEl.style.display =\n",
              "        google.colab.kernel.accessAllowed ? 'block' : 'none';\n",
              "    })();\n",
              "  </script>\n",
              "</div>\n",
              "\n",
              "    </div>\n",
              "  </div>\n"
            ],
            "application/vnd.google.colaboratory.intrinsic+json": {
              "type": "dataframe",
              "summary": "{\n  \"name\": \"df\",\n  \"rows\": 4,\n  \"fields\": [\n    {\n      \"column\": \"Name\",\n      \"properties\": {\n        \"dtype\": \"string\",\n        \"num_unique_values\": 3,\n        \"samples\": [\n          \"891\",\n          \"Braund, Mr. Owen Harris\",\n          \"1\"\n        ],\n        \"semantic_type\": \"\",\n        \"description\": \"\"\n      }\n    },\n    {\n      \"column\": \"Sex\",\n      \"properties\": {\n        \"dtype\": \"string\",\n        \"num_unique_values\": 4,\n        \"samples\": [\n          2,\n          \"577\",\n          \"891\"\n        ],\n        \"semantic_type\": \"\",\n        \"description\": \"\"\n      }\n    },\n    {\n      \"column\": \"Ticket\",\n      \"properties\": {\n        \"dtype\": \"string\",\n        \"num_unique_values\": 4,\n        \"samples\": [\n          681,\n          \"7\",\n          \"891\"\n        ],\n        \"semantic_type\": \"\",\n        \"description\": \"\"\n      }\n    },\n    {\n      \"column\": \"Cabin\",\n      \"properties\": {\n        \"dtype\": \"string\",\n        \"num_unique_values\": 4,\n        \"samples\": [\n          147,\n          \"4\",\n          \"204\"\n        ],\n        \"semantic_type\": \"\",\n        \"description\": \"\"\n      }\n    },\n    {\n      \"column\": \"Embarked\",\n      \"properties\": {\n        \"dtype\": \"string\",\n        \"num_unique_values\": 4,\n        \"samples\": [\n          3,\n          \"644\",\n          \"889\"\n        ],\n        \"semantic_type\": \"\",\n        \"description\": \"\"\n      }\n    }\n  ]\n}"
            }
          },
          "metadata": {},
          "execution_count": 53
        }
      ],
      "source": [
        "# Insérez votre code ici pour les statistiques descriptives des variables catégorielles\n",
        "df.describe(include=['O'])"
      ]
    },
    {
      "cell_type": "markdown",
      "id": "bed8015d-2e99-4cf0-a37a-979c29abf888",
      "metadata": {
        "id": "bed8015d-2e99-4cf0-a37a-979c29abf888"
      },
      "source": [
        "**Question** : Combien de catégories uniques existe-t-il pour chaque variable catégorielle ? En quoi ces informations pourraient-elles être utiles lors de la modélisation ?"
      ]
    },
    {
      "cell_type": "markdown",
      "id": "5a53e953-c806-44a0-8635-48f56140f704",
      "metadata": {
        "tags": [],
        "id": "5a53e953-c806-44a0-8635-48f56140f704"
      },
      "source": [
        "#### 4. **Visualisation des Données**\n",
        "\n",
        "1. **Visualisation de la Distribution de l'Âge** :\n",
        "   - Utilisez `sns.histplot()` pour afficher l’histogramme de la distribution de l'âge (`Age`)."
      ]
    },
    {
      "cell_type": "code",
      "execution_count": 54,
      "id": "7b76fc9e-6a92-4229-931c-5827f4057136",
      "metadata": {
        "colab": {
          "base_uri": "https://localhost:8080/",
          "height": 467
        },
        "id": "7b76fc9e-6a92-4229-931c-5827f4057136",
        "outputId": "f3512b5d-dd7c-4149-8650-8e73dfd880a6"
      },
      "outputs": [
        {
          "output_type": "execute_result",
          "data": {
            "text/plain": [
              "<Axes: xlabel='Age', ylabel='Count'>"
            ]
          },
          "metadata": {},
          "execution_count": 54
        },
        {
          "output_type": "display_data",
          "data": {
            "text/plain": [
              "<Figure size 640x480 with 1 Axes>"
            ],
            "image/png": "[encoded data removed]"
          },
          "metadata": {}
        }
      ],
      "source": [
        "# Insérez votre code ici pour visualiser la distribution de l'âge\n",
        "sns.histplot(df['Age'])"
      ]
    },
    {
      "cell_type": "markdown",
      "id": "99f3c700-a4ae-48a6-b3bc-e7aea450073a",
      "metadata": {
        "id": "99f3c700-a4ae-48a6-b3bc-e7aea450073a"
      },
      "source": [
        "**Questions** :\n",
        "   - Que représente chaque barre de l'histogramme ? Quels âges semblent les plus courants parmi les passagers ?\n",
        "   - En quoi la distribution de l'âge pourrait-elle influencer une analyse business ?"
      ]
    },
    {
      "cell_type": "markdown",
      "id": "5de85d22-4dd0-4a53-9692-4d5c33f05191",
      "metadata": {
        "id": "5de85d22-4dd0-4a53-9692-4d5c33f05191"
      },
      "source": [
        "2. **Visualisation de la Distribution de la variable `Fare`** :\n",
        "   - Utilisez `sns.histplot()` pour afficher l’histogramme de la distribution de la variable `Fare`."
      ]
    },
    {
      "cell_type": "code",
      "execution_count": 55,
      "id": "5c4a53cd-868d-47c1-bf1e-66fa24ef8df6",
      "metadata": {
        "colab": {
          "base_uri": "https://localhost:8080/",
          "height": 467
        },
        "id": "5c4a53cd-868d-47c1-bf1e-66fa24ef8df6",
        "outputId": "7b594830-3115-4280-fd6a-add04b82cc7c"
      },
      "outputs": [
        {
          "output_type": "execute_result",
          "data": {
            "text/plain": [
              "<Axes: xlabel='Fare', ylabel='Count'>"
            ]
          },
          "metadata": {},
          "execution_count": 55
        },
        {
          "output_type": "display_data",
          "data": {
            "text/plain": [
              "<Figure size 640x480 with 1 Axes>"
            ],
            "image/png": "[encoded data removed]"
          },
          "metadata": {}
        }
      ],
      "source": [
        "# Insérez votre code ici pour visualiser la distribution de Fare\n",
        "sns.histplot(df['Fare'])"
      ]
    },
    {
      "cell_type": "markdown",
      "id": "b6f81d81-095f-4a55-9a61-0a7d38185573",
      "metadata": {
        "id": "b6f81d81-095f-4a55-9a61-0a7d38185573"
      },
      "source": [
        "3. **Corrélations entre Variables Numériques** :\n",
        "\n",
        " > **Corrélation** : La corrélation mesure la force et la direction de la relation entre deux variables. Une corrélation proche de 1 ou -1 indique une relation forte, tandis qu'une corrélation proche de 0 indique une relation faible.\n",
        "\n",
        "   - Utilisez `.corr()` pour calculer la corrélation entre les variables numériques, puis visualisez avec `sns.heatmap()`."
      ]
    },
    {
      "cell_type": "code",
      "execution_count": 56,
      "id": "e7de220c-9cf5-4389-8b45-d91f717c04fe",
      "metadata": {
        "colab": {
          "base_uri": "https://localhost:8080/",
          "height": 545
        },
        "id": "e7de220c-9cf5-4389-8b45-d91f717c04fe",
        "outputId": "2b21808f-6e60-4c30-d127-e87bb143c779"
      },
      "outputs": [
        {
          "output_type": "display_data",
          "data": {
            "text/plain": [
              "<Figure size 1000x600 with 2 Axes>"
            ],
            "image/png": "[encoded data removed]"
          },
          "metadata": {}
        }
      ],
      "source": [
        "# Insérez votre code ici pour afficher la heatmap de corrélations\n",
        "# Filtrer les colonnes numériques uniquement\n",
        "df_clean_numeric = df_clean.select_dtypes(include=[np.number])\n",
        "\n",
        "# Calcul de la matrice de corrélation sur les colonnes numériques\n",
        "corr_matrix = df_clean_numeric.corr()\n",
        "\n",
        "# Visualisation de la heatmap de corrélations\n",
        "plt.figure(figsize=(10, 6))\n",
        "sns.heatmap(corr_matrix, annot=True, cmap='coolwarm', linewidths=0.5)\n",
        "plt.title('Corrélations entre les variables numériques')\n",
        "plt.show()\n",
        "\n",
        "\n"
      ]
    },
    {
      "cell_type": "markdown",
      "id": "141325ac-8cd8-436b-b9a1-0c66b1e5d081",
      "metadata": {
        "id": "141325ac-8cd8-436b-b9a1-0c66b1e5d081"
      },
      "source": [
        "**Questions** :\n",
        "   - Quelles sont les variables fortement corrélées entre elles ? Comment interpréter ces corrélations ?\n",
        "   - Pourquoi est-il important de connaître les corrélations pour éviter les redondances dans les variables ?"
      ]
    },
    {
      "cell_type": "markdown",
      "source": [
        "===> Les variables fortement corrélées sont Pclass et Fare (-0.32) ainsi que Parch et Fare (0.39). Cela signifie que les passagers en classe supérieure paient des tarifs plus élevés, et qu'il existe une certaine relation entre le nombre de parents/enfants à bord et le tarif.\n",
        "\n",
        "Connaître les corrélations est essentiel pour éviter la redondance des informations dans les modèles, car des variables très corrélées peuvent biaiser les résultats, rendant certaines caractéristiques moins pertinentes."
      ],
      "metadata": {
        "id": "M5LEHTYWfawl"
      },
      "id": "M5LEHTYWfawl"
    },
    {
      "cell_type": "markdown",
      "id": "e9d35953-2dc6-4465-aa3f-a07660746811",
      "metadata": {
        "id": "e9d35953-2dc6-4465-aa3f-a07660746811"
      },
      "source": [
        "#### 5. **Identification des Valeurs Manquantes**\n",
        "\n",
        "   - Utilisez `.isnull().sum()` pour identifier les colonnes avec des valeurs manquantes."
      ]
    },
    {
      "cell_type": "code",
      "execution_count": 57,
      "id": "8ba74559-ce30-4bbe-8c06-c8de63ab5c84",
      "metadata": {
        "colab": {
          "base_uri": "https://localhost:8080/",
          "height": 460
        },
        "id": "8ba74559-ce30-4bbe-8c06-c8de63ab5c84",
        "outputId": "3dd83b98-1fbb-426c-f080-208e5b2b3a1f"
      },
      "outputs": [
        {
          "output_type": "execute_result",
          "data": {
            "text/plain": [
              "PassengerId      0\n",
              "Survived         0\n",
              "Pclass           0\n",
              "Name             0\n",
              "Sex              0\n",
              "Age            177\n",
              "SibSp            0\n",
              "Parch            0\n",
              "Ticket           0\n",
              "Fare             0\n",
              "Cabin          687\n",
              "Embarked         2\n",
              "dtype: int64"
            ],
            "text/html": [
              "<div>\n",
              "<style scoped>\n",
              "    .dataframe tbody tr th:only-of-type {\n",
              "        vertical-align: middle;\n",
              "    }\n",
              "\n",
              "    .dataframe tbody tr th {\n",
              "        vertical-align: top;\n",
              "    }\n",
              "\n",
              "    .dataframe thead th {\n",
              "        text-align: right;\n",
              "    }\n",
              "</style>\n",
              "<table border=\"1\" class=\"dataframe\">\n",
              "  <thead>\n",
              "    <tr style=\"text-align: right;\">\n",
              "      <th></th>\n",
              "      <th>0</th>\n",
              "    </tr>\n",
              "  </thead>\n",
              "  <tbody>\n",
              "    <tr>\n",
              "      <th>PassengerId</th>\n",
              "      <td>0</td>\n",
              "    </tr>\n",
              "    <tr>\n",
              "      <th>Survived</th>\n",
              "      <td>0</td>\n",
              "    </tr>\n",
              "    <tr>\n",
              "      <th>Pclass</th>\n",
              "      <td>0</td>\n",
              "    </tr>\n",
              "    <tr>\n",
              "      <th>Name</th>\n",
              "      <td>0</td>\n",
              "    </tr>\n",
              "    <tr>\n",
              "      <th>Sex</th>\n",
              "      <td>0</td>\n",
              "    </tr>\n",
              "    <tr>\n",
              "      <th>Age</th>\n",
              "      <td>177</td>\n",
              "    </tr>\n",
              "    <tr>\n",
              "      <th>SibSp</th>\n",
              "      <td>0</td>\n",
              "    </tr>\n",
              "    <tr>\n",
              "      <th>Parch</th>\n",
              "      <td>0</td>\n",
              "    </tr>\n",
              "    <tr>\n",
              "      <th>Ticket</th>\n",
              "      <td>0</td>\n",
              "    </tr>\n",
              "    <tr>\n",
              "      <th>Fare</th>\n",
              "      <td>0</td>\n",
              "    </tr>\n",
              "    <tr>\n",
              "      <th>Cabin</th>\n",
              "      <td>687</td>\n",
              "    </tr>\n",
              "    <tr>\n",
              "      <th>Embarked</th>\n",
              "      <td>2</td>\n",
              "    </tr>\n",
              "  </tbody>\n",
              "</table>\n",
              "</div><br><label><b>dtype:</b> int64</label>"
            ]
          },
          "metadata": {},
          "execution_count": 57
        }
      ],
      "source": [
        "# Insérez votre code ici pour vérifier les valeurs manquantes\n",
        "df.isnull().sum()"
      ]
    },
    {
      "cell_type": "markdown",
      "id": "6ec4139e-9e85-4ccb-838a-cc1c2087268a",
      "metadata": {
        "id": "6ec4139e-9e85-4ccb-838a-cc1c2087268a"
      },
      "source": [
        "**Questions** :\n",
        "   - Quelles colonnes contiennent des valeurs manquantes ? Quelle pourrait être la cause des valeurs manquantes ?\n",
        "   - Comment le choix de traitement des valeurs manquantes peut-il impacter les résultats d’un modèle ?"
      ]
    },
    {
      "cell_type": "markdown",
      "source": [
        "==> Les colonnes `Age`, `Cabin`, et `Embarked` contiennent des valeurs manquantes. Les valeurs manquantes dans `Age` peuvent être dues à l'absence d'enregistrement de cette information pour certains passagers, tandis que pour `Cabin`, la majorité des passagers n'avaient peut-être pas de cabine attribuée. Le traitement des valeurs manquantes (remplissage, suppression, etc.) peut impacter le modèle en introduisant des biais ou en réduisant la précision, selon la méthode choisie."
      ],
      "metadata": {
        "id": "gzTzbI2nkinO"
      },
      "id": "gzTzbI2nkinO"
    },
    {
      "cell_type": "markdown",
      "id": "69760841-7062-4676-9764-e851edca0691",
      "metadata": {
        "id": "69760841-7062-4676-9764-e851edca0691"
      },
      "source": [
        "#### 6. Gestion des Valeurs Aberrantes (Outliers)\n",
        "\n",
        "Les valeurs aberrantes (outliers) sont des valeurs extrêmes qui peuvent influencer les résultats de certains modèles. Une méthode simple pour les identifier est l’utilisation d’un **boxplot**.\n",
        "\n",
        "- **Boxplot pour Identifier les Valeurs Aberrantes** :\n",
        "   - Utilisez `sns.boxplot()` pour visualiser la distribution de l'âge et de `fare` et identifier les valeurs aberrantes.\n",
        "   \n"
      ]
    },
    {
      "cell_type": "code",
      "execution_count": 58,
      "id": "b6fa5fee-411c-4c03-ac5e-4cbcf97ef8e0",
      "metadata": {
        "colab": {
          "base_uri": "https://localhost:8080/",
          "height": 467
        },
        "id": "b6fa5fee-411c-4c03-ac5e-4cbcf97ef8e0",
        "outputId": "0d91062d-e3b2-4760-a459-975e64133389"
      },
      "outputs": [
        {
          "output_type": "execute_result",
          "data": {
            "text/plain": [
              "<Axes: xlabel='Age'>"
            ]
          },
          "metadata": {},
          "execution_count": 58
        },
        {
          "output_type": "display_data",
          "data": {
            "text/plain": [
              "<Figure size 640x480 with 1 Axes>"
            ],
            "image/png": "[encoded data removed]"
          },
          "metadata": {}
        }
      ],
      "source": [
        "# Insérez votre code ici pour visualiser le boxplot de l'âge\n",
        "sns.boxplot(x=df['Age'])\n",
        "\n"
      ]
    },
    {
      "cell_type": "code",
      "execution_count": 59,
      "id": "9a3b1f66-dbb1-4ae7-a085-efa42fbb4f6a",
      "metadata": {
        "colab": {
          "base_uri": "https://localhost:8080/",
          "height": 472
        },
        "id": "9a3b1f66-dbb1-4ae7-a085-efa42fbb4f6a",
        "outputId": "4c95c5ed-d7ca-45db-d772-041d60f1cf09"
      },
      "outputs": [
        {
          "output_type": "display_data",
          "data": {
            "text/plain": [
              "<Figure size 640x480 with 1 Axes>"
            ],
            "image/png": "[encoded data removed]"
          },
          "metadata": {}
        }
      ],
      "source": [
        "# Insérez votre code ici pour visualiser le boxplot de fare\n",
        "sns.boxplot(x=df['Fare'])\n",
        "plt.title('Boxplot de la variable Fare')\n",
        "plt.show()\n"
      ]
    },
    {
      "cell_type": "markdown",
      "id": "dc55bef3-dd25-42d1-885e-1c049d2d98ba",
      "metadata": {
        "id": "dc55bef3-dd25-42d1-885e-1c049d2d98ba"
      },
      "source": [
        "**Questions** :\n",
        "   - Que représentent les points situés en dehors des moustaches du boxplot ?\n",
        "   - Comment pourriez-vous traiter ces valeurs aberrantes (les conserver, les supprimer, les transformer) ?"
      ]
    },
    {
      "cell_type": "markdown",
      "source": [
        "==> Les points situés en dehors des moustaches du boxplot représentent des valeurs aberrantes, c'est-à-dire des valeurs qui sont significativement éloignées de la distribution centrale des données. Dans ce cas, il s'agit de passagers ayant payé des tarifs très élevés.\n",
        "\n",
        "Pour traiter ces valeurs aberrantes, vous pouvez soit les conserver si elles sont pertinentes, les supprimer si elles risquent de biaiser l'analyse, ou les transformer (par exemple, en appliquant une transformation logarithmique pour réduire l'impact des valeurs extrêmes)."
      ],
      "metadata": {
        "id": "wCVXIW9GiSFO"
      },
      "id": "wCVXIW9GiSFO"
    },
    {
      "cell_type": "markdown",
      "source": [
        "Fare refers to the price paid by a passenger for their ticket."
      ],
      "metadata": {
        "id": "SyJ5Uqv3sPP8"
      },
      "id": "SyJ5Uqv3sPP8"
    },
    {
      "cell_type": "markdown",
      "id": "606380f1-8b53-4930-9f1a-8354f6d59596",
      "metadata": {
        "id": "606380f1-8b53-4930-9f1a-8354f6d59596"
      },
      "source": [
        "### Résumé de l'Analyse Exploratoire (EDA)\n",
        "\n",
        "**Instructions** : Rédigez un résumé de vos observations. Notez les points suivants :\n",
        "   - Les principales caractéristiques du dataset (variables, types de données, etc.).\n",
        "   - Observations notables, comme les distributions de variables ou des corrélations importantes.\n",
        "   - Quels aspects du dataset pourraient nécessiter des étapes de nettoyage et de transformation avant la modélisation.\n",
        "   - ...\n",
        "\n",
        "---"
      ]
    },
    {
      "cell_type": "markdown",
      "source": [
        "### Résumé de l'Analyse Exploratoire (EDA) :\n",
        "\n",
        "- **Caractéristiques principales** : Le dataset Titanic contient des variables numériques (ex : `Age`, `Fare`) et catégorielles (ex : `Sex`, `Embarked`). Certaines colonnes, comme `Cabin` et `Age`, ont des valeurs manquantes.\n",
        "- **Observations notables** : La variable `Fare` a des valeurs très dispersées, avec des outliers importants. La classe du billet (`Pclass`) est corrélée au tarif (`Fare`), indiquant que les passagers de première classe ont payé des tarifs plus élevés.\n",
        "- **Nettoyage nécessaire** : Les colonnes `Age` et `Cabin` nécessitent un traitement des valeurs manquantes. Les outliers dans `Fare` peuvent nécessiter une transformation ou une suppression.\n",
        "- **Conclusion** : Avant la modélisation, il faudra traiter les valeurs manquantes, encoder les variables catégorielles et possiblement normaliser certaines variables."
      ],
      "metadata": {
        "id": "jAgKaN-6scnD"
      },
      "id": "jAgKaN-6scnD"
    },
    {
      "cell_type": "markdown",
      "id": "a5247d9f-aed8-438b-9fa9-950c7b7fc309",
      "metadata": {
        "tags": [],
        "id": "a5247d9f-aed8-438b-9fa9-950c7b7fc309"
      },
      "source": [
        "## **4. Prétraitement des Données**"
      ]
    },
    {
      "cell_type": "markdown",
      "id": "d07a4b2c-15ca-40e9-9f80-9250dded2d27",
      "metadata": {
        "tags": [],
        "id": "d07a4b2c-15ca-40e9-9f80-9250dded2d27"
      },
      "source": [
        "### Définition\n",
        "\n",
        "Le **prétraitement des données** consiste à préparer les données pour l’entraînement du modèle. Il inclut le nettoyage des données, le traitement des valeurs manquantes, l’encodage des variables catégorielles, la gestion des valeurs aberrantes, et la normalisation.\n",
        "\n",
        "### Objectifs du Prétraitement des Données\n",
        "\n",
        "- **Assurer la qualité des données** : Traiter les valeurs manquantes et aberrantes pour éviter des biais dans les modèles.\n",
        "- **Préparer les données pour les algorithmes** : Rendre les données exploitables pour le modèle choisi, en appliquant des transformations adaptées."
      ]
    },
    {
      "cell_type": "markdown",
      "id": "b8282769-7564-482e-8346-8fffa944caf2",
      "metadata": {
        "id": "b8282769-7564-482e-8346-8fffa944caf2"
      },
      "source": [
        "### Étapes du Prétraitement"
      ]
    },
    {
      "cell_type": "markdown",
      "id": "dad92ecd-0947-4a07-bc59-214a8d8b6e37",
      "metadata": {
        "id": "dad92ecd-0947-4a07-bc59-214a8d8b6e37"
      },
      "source": [
        "---\n",
        "\n",
        "### 1. Gestion des Valeurs Manquantes"
      ]
    },
    {
      "cell_type": "markdown",
      "id": "ae3630a4-74fd-4e74-a8b1-6a6b2f7aa9b1",
      "metadata": {
        "id": "ae3630a4-74fd-4e74-a8b1-6a6b2f7aa9b1"
      },
      "source": [
        "La gestion des valeurs manquantes est essentielle pour garantir la qualité des données avant toute analyse ou modélisation. Les valeurs manquantes peuvent être traitées de différentes manières en fonction du type de variable et de la distribution des données. Voici les stratégies d’imputation couramment utilisées :\n",
        "\n",
        "- **Moyenne** : Pour les variables continues avec une distribution symétrique et sans valeurs extrêmes.\n",
        "- **Médiane** : Pour les variables continues susceptibles de contenir des valeurs extrêmes, car elle est moins sensible aux valeurs aberrantes.\n",
        "- **Mode** : Pour les variables catégorielles, en remplaçant les valeurs manquantes par la catégorie la plus fréquente.\n",
        "- **Suppression** : Pour les colonnes ayant plus de 70 % de valeurs manquantes, car elles contiennent peu d’informations exploitables.\n",
        "- **Méthodes avancées** : Dans certains cas, des modèles de Machine Learning peuvent prédire les valeurs manquantes, mais cela nécessite des ressources supplémentaires et une analyse approfondie.\n",
        "\n",
        "#### **Exemple d’Imputation pour la Colonne `Age`**\n",
        "\n",
        "Pour la colonne `Age`, nous utilisons la **médiane** pour remplacer les valeurs manquantes, car cette variable continue contient des valeurs extrêmes. Utilisez `.fillna()` pour remplacer les valeurs manquantes\n"
      ]
    },
    {
      "cell_type": "code",
      "execution_count": 60,
      "id": "0d87ab05-220a-474a-8ad2-ba26f50be1e0",
      "metadata": {
        "colab": {
          "base_uri": "https://localhost:8080/"
        },
        "id": "0d87ab05-220a-474a-8ad2-ba26f50be1e0",
        "outputId": "fba0ba03-d375-4c45-9a40-448a14b6521e"
      },
      "outputs": [
        {
          "output_type": "stream",
          "name": "stderr",
          "text": [
            "<ipython-input-60-99969ba84e10>:2: FutureWarning: A value is trying to be set on a copy of a DataFrame or Series through chained assignment using an inplace method.\n",
            "The behavior will change in pandas 3.0. This inplace method will never work because the intermediate object on which we are setting values always behaves as a copy.\n",
            "\n",
            "For example, when doing 'df[col].method(value, inplace=True)', try using 'df.method({col: value}, inplace=True)' or df[col] = df[col].method(value) instead, to perform the operation inplace on the original object.\n",
            "\n",
            "\n",
            "  df['Age'].fillna(df['Age'].median(), inplace=True)\n"
          ]
        }
      ],
      "source": [
        "# Insérez votre code ici pour remplir les valeurs manquantes dans la colonne Age\n",
        "df['Age'].fillna(df['Age'].median(), inplace=True)"
      ]
    },
    {
      "cell_type": "markdown",
      "id": "c6b42919-e04d-4e11-9de2-82635c4d2bb7",
      "metadata": {
        "id": "c6b42919-e04d-4e11-9de2-82635c4d2bb7"
      },
      "source": [
        "**Question** :\n",
        "- Pourquoi utiliser la médiane peut-il être plus avantageux que la moyenne pour remplacer les valeurs manquantes ?"
      ]
    },
    {
      "cell_type": "markdown",
      "id": "f2c7bac5-b9cc-4b79-a854-93b56f105480",
      "metadata": {
        "id": "f2c7bac5-b9cc-4b79-a854-93b56f105480"
      },
      "source": [
        "#### **Application des Stratégies pour les Autres Variables**\n",
        "\n",
        "Pour les autres variables, choisissez la stratégie d’imputation appropriée selon la nature de la colonne :\n",
        "\n",
        "- Utilisez la **moyenne** ou la **médiane** pour les variables continues, selon la présence de valeurs extrêmes.\n",
        "- Utilisez le **mode** pour les variables catégorielles.\n",
        "- Supprimez les colonnes avec un grand nombre de valeurs manquantes si elles contiennent plus de 70 % de données manquantes."
      ]
    },
    {
      "cell_type": "markdown",
      "id": "984ec07c-2416-4ce8-bcda-4ad48d09450a",
      "metadata": {
        "id": "984ec07c-2416-4ce8-bcda-4ad48d09450a"
      },
      "source": [
        "**Questions** :\n",
        "- Quels sont les avantages et inconvénients d'utiliser la moyenne, la médiane ou le mode pour gérer les valeurs manquantes ?"
      ]
    },
    {
      "cell_type": "markdown",
      "id": "aeab3ee8-6d08-46d3-94da-419050056585",
      "metadata": {
        "id": "aeab3ee8-6d08-46d3-94da-419050056585"
      },
      "source": [
        "---\n",
        "### 2. **Calcule et Traitement des Valeurs Aberrantes avec la methode de l'IQR**\n",
        "\n",
        "Une fois que nous avons identifié des valeurs aberrantes lors de l'exploration des données, nous pouvons maintenant les traiter dans la phase de prétraitement. Les valeurs aberrantes sont des observations extrêmes qui se situent en dehors de la majorité des données et peuvent affecter la performance de certains modèles de Machine Learning.\n",
        "\n",
        "#### **Méthode de l'IQR pour le Traitement des Valeurs Aberrantes**\n",
        "\n",
        "Pour repérer les valeurs aberrantes de manière quantitative, nous utilisons l'Intervalle Interquartile (`IQR`). En rappel, l'IQR est défini comme la différence entre le troisième quartile (`Q3`) et le premier quartile (`Q1`) : $IQR = Q3 - Q1$\n",
        "\n",
        "Pour identifier les valeurs aberrantes, on utilise les bornes suivantes :\n",
        "- **Borne inférieure** : $ Q1 - 1.5 \\times IQR $\n",
        "- **Borne supérieure** : $ Q3 + 1.5 \\times IQR $\n",
        "\n",
        "Les valeurs en dehors de cet intervalle sont considérées comme aberrantes.\n",
        "\n",
        "##### **Étapes pour Traiter les Valeurs Aberrantes**\n",
        "\n",
        "1. **Calcul des Quartiles et de l'IQR** :\n",
        "   - Calculez les quartiles  `Q1` et `Q3`  pour les variables `Age` et `Fare`.\n",
        "   - Déterminez l'IQR en soustrayant `Q1` de `Q3`.\n",
        "\n",
        "2. **Détection des Valeurs Aberrantes** :\n",
        "   - Calculez les bornes inférieure et supérieure pour chaque variable.\n",
        "   - Filtrez les valeurs de `Age` et `Fare` qui se trouvent en dehors de ces bornes.\n",
        "\n",
        "3. **Options pour le Traitement** :\n",
        "   - **Suppression** : Supprimer les valeurs aberrantes si elles sont peu nombreuses et qu'elles risquent d'affecter le modèle.\n",
        "   - **Transformation** : Appliquer une transformation (comme la transformation logarithmique) pour réduire l’impact des valeurs extrêmes.\n",
        "   - **Imputation** : Remplacer les valeurs aberrantes par la médiane ou un autre résumé statistique si elles sont essentielles pour l’analyse.\n",
        "\n",
        "**Instructions** :\n",
        "- Calculez les valeurs de `Q1`, `Q3` et `IQR` pour `Age` et `Fare`.\n",
        "- Déterminez les bornes pour filtrer les valeurs aberrantes et décidez comment les traiter en fonction du contexte."
      ]
    },
    {
      "cell_type": "code",
      "execution_count": 61,
      "id": "e9d440ff-bc24-48df-bb11-fda2252b8247",
      "metadata": {
        "id": "e9d440ff-bc24-48df-bb11-fda2252b8247"
      },
      "outputs": [],
      "source": [
        "# Insérez votre code ici pour détection des Valeurs Aberrantes de l'age et de face\n",
        "Q1 = df['Age'].quantile(0.25)\n",
        "Q3 = df['Age'].quantile(0.75)\n",
        "IQR = Q3 - Q1"
      ]
    },
    {
      "cell_type": "markdown",
      "id": "78c7624d-b45e-496c-a74b-bc57761d24ee",
      "metadata": {
        "id": "78c7624d-b45e-496c-a74b-bc57761d24ee"
      },
      "source": [
        "**Questions** :\n",
        "- Quels sont les avantages de transformer ou de supprimer les valeurs aberrantes dans `Age` et `Fare` ?\n",
        "- Comment ces décisions pourraient-elles influencer les résultats de votre modèle de Machine Learning ?\n",
        "\n",
        "---"
      ]
    },
    {
      "cell_type": "markdown",
      "id": "6fd47da1-359f-4536-95ae-a25f35412268",
      "metadata": {
        "id": "6fd47da1-359f-4536-95ae-a25f35412268"
      },
      "source": [
        "### 3. **Encodage des Variables Catégorielles**\n",
        "\n",
        "1. **Encodage One-Hot** :\n",
        "   - Utilisez `pd.get_dummies()` pour encoder les variables catégorielles (`Sex`, `Embarked`) en variables numériques."
      ]
    },
    {
      "cell_type": "code",
      "execution_count": 62,
      "id": "1ab1cf3f-e5e7-454f-a5bf-fa336935a7e5",
      "metadata": {
        "id": "1ab1cf3f-e5e7-454f-a5bf-fa336935a7e5"
      },
      "outputs": [],
      "source": [
        "# Insérez votre code ici pour encoder les variables catégorielles\n",
        "df_encoded = pd.get_dummies(df, columns=['Sex', 'Embarked'])"
      ]
    },
    {
      "cell_type": "markdown",
      "id": "30f769e5-3523-4c0a-93ce-0e4e178ffcca",
      "metadata": {
        "id": "30f769e5-3523-4c0a-93ce-0e4e178ffcca"
      },
      "source": [
        "**Question** : Comment l’encodage des variables catégorielles peut-il aider certains algorithmes de Machine Learning à mieux traiter les données ?"
      ]
    },
    {
      "cell_type": "markdown",
      "source": [
        "L'encodage des variables catégorielles avec la méthode One-Hot permet de convertir des variables catégorielles en variables numériques binaires (0 ou 1) que les algorithmes de Machine Learning peuvent traiter. Cela aide particulièrement les modèles basés sur des opérations mathématiques (comme les régressions et les réseaux de neurones) à interpréter ces données correctement, sans imposer un ordre arbitraire aux catégories."
      ],
      "metadata": {
        "id": "lTJz0Mylj8mm"
      },
      "id": "lTJz0Mylj8mm"
    },
    {
      "cell_type": "markdown",
      "id": "c638f814-3e13-45db-a0dd-59b0c253e666",
      "metadata": {
        "id": "c638f814-3e13-45db-a0dd-59b0c253e666"
      },
      "source": [
        "---\n",
        "\n",
        "### 4. Normalisation et Standardisation des Variables\n",
        "\n",
        "La **normalisation** et la **standardisation** sont des étapes importantes dans le prétraitement des données pour s’assurer que toutes les variables sont sur une même échelle. Cela évite que certaines variables, qui ont des valeurs plus grandes ou plus petites, influencent davantage le modèle que d'autres, simplement à cause de leur amplitude.\n",
        "\n",
        "- **Normalisation** : La normalisation consiste à rescaler les données pour qu’elles soient comprises entre 0 et 1. Cela est utile lorsque les données contiennent des valeurs de tailles très différentes. Par exemple, si l’une des variables représente des montants financiers en milliers et qu'une autre représente des pourcentages, la normalisation permet de placer ces deux variables sur une échelle de 0 à 1, ce qui facilite les calculs et rend les valeurs comparables.\n",
        "\n",
        "  Formule de la normalisation : $ x_{\\text{norm}} = \\frac{x - x_{\\text{min}}}{x_{\\text{max}} - x_{\\text{min}}}$\n",
        "\n",
        "- **Standardisation** : La standardisation consiste à transformer les données pour qu’elles aient une moyenne de 0 et un écart-type de 1. Cette méthode est utile lorsque les valeurs sont distribuées autour d’une moyenne mais avec des écarts variés. La standardisation centre les données autour de 0, ce qui aide à équilibrer leur influence dans les calculs du modèle.\n",
        "\n",
        "  Formule de la standardisation :\n",
        "  $ z = \\frac{x - \\mu}{\\sigma}$, où $ \\mu $ est la moyenne de la variable et $ \\sigma $ est son écart-type.\n",
        "\n",
        "**Pourquoi normaliser ou standardiser ?**  \n",
        "Ces transformations sont appliquées pour que les variables aient une échelle comparable, ce qui permet d’éviter que certaines variables dominent les calculs simplement en raison de leur amplitude. Cela peut aussi améliorer la performance des modèles de Machine Learning qui sont sensibles aux différences d’échelle entre les variables, comme les modèles de distances.\n",
        "\n",
        "##### **Instructions pour Appliquer la Normalisation et la Standardisation**"
      ]
    },
    {
      "cell_type": "markdown",
      "id": "8b4bffac-72fe-4db6-a6e4-f1579b823f4a",
      "metadata": {
        "id": "8b4bffac-72fe-4db6-a6e4-f1579b823f4a"
      },
      "source": [
        "- **Normalisation** : Utilisez `MinMaxScaler` de `sklearn.preprocessing` pour transformer les variables numériques afin qu’elles soient comprises entre 0 et 1."
      ]
    },
    {
      "cell_type": "code",
      "execution_count": 63,
      "id": "52b7fc41-8d09-4149-bcd8-68ff40c50cb0",
      "metadata": {
        "id": "52b7fc41-8d09-4149-bcd8-68ff40c50cb0"
      },
      "outputs": [],
      "source": [
        "# Insérez votre code ici pour normalisation les variables numériques\n",
        "from sklearn.preprocessing import MinMaxScaler\n",
        "\n",
        "# Instancier le normaliseur\n",
        "scaler = MinMaxScaler()"
      ]
    },
    {
      "cell_type": "markdown",
      "id": "c7bb60a9-6b3a-444a-abb3-c7903df647dd",
      "metadata": {
        "id": "c7bb60a9-6b3a-444a-abb3-c7903df647dd"
      },
      "source": [
        "**Question** : Question : Pourquoi la normalisation pourrait-elle être utile pour certains types d’analyses ?"
      ]
    },
    {
      "cell_type": "markdown",
      "id": "caa669cf-c97d-48da-8d52-6d82962d91f4",
      "metadata": {
        "id": "caa669cf-c97d-48da-8d52-6d82962d91f4"
      },
      "source": [
        "- **Standardisation** : Utilisez `StandardScaler` de `sklearn.preprocessing` pour transformer les variables numériques afin qu’elles aient une moyenne de 0 et un écart-type de 1."
      ]
    },
    {
      "cell_type": "code",
      "execution_count": 64,
      "id": "4ec2358b-7e56-4cf8-8532-53a04488b071",
      "metadata": {
        "colab": {
          "base_uri": "https://localhost:8080/"
        },
        "id": "4ec2358b-7e56-4cf8-8532-53a04488b071",
        "outputId": "d77633ff-ff0d-4d29-eea0-cc28e489a9d4"
      },
      "outputs": [
        {
          "output_type": "stream",
          "name": "stdout",
          "text": [
            "        Age      Fare\n",
            "0  0.271174  0.014151\n",
            "1  0.472229  0.139136\n",
            "2  0.321438  0.015469\n",
            "3  0.434531  0.103644\n",
            "4  0.434531  0.015713\n"
          ]
        }
      ],
      "source": [
        "# Insérez votre code ici pour standardiser les variables numériques\n",
        "from sklearn.preprocessing import MinMaxScaler\n",
        "\n",
        "# Instancier le normaliseur\n",
        "scaler = MinMaxScaler()\n",
        "\n",
        "# Appliquer la normalisation sur les variables numériques (ex: Age et Fare)\n",
        "df[['Age', 'Fare']] = scaler.fit_transform(df[['Age', 'Fare']])\n",
        "\n",
        "print(df[['Age', 'Fare']].head())\n"
      ]
    },
    {
      "cell_type": "markdown",
      "id": "fc6a2aaf-90f5-4eb3-8799-494b935b1929",
      "metadata": {
        "id": "fc6a2aaf-90f5-4eb3-8799-494b935b1929"
      },
      "source": [
        "**Question** : Dans quel cas pensez-vous que la standardisation des données pourrait être importante ?"
      ]
    },
    {
      "cell_type": "markdown",
      "id": "13949879-3466-4dd2-85eb-31ff3b9100e8",
      "metadata": {
        "id": "13949879-3466-4dd2-85eb-31ff3b9100e8"
      },
      "source": [
        "---\n",
        "### Feature Engineering\n",
        "\n",
        "Créer de nouvelles variables à partir des données existantes peut améliorer les performances du modèle. Par exemple :\n",
        "   - **Membre de Famille** : Combinez `SibSp` (nombre de frères/sœurs/époux) et `Parch` (nombre de parents/enfants) pour créer une nouvelle variable représentant le nombre total de membres de la famille."
      ]
    },
    {
      "cell_type": "code",
      "execution_count": 65,
      "id": "73ffc89a-1022-48ca-b39c-8d9a7ac45a74",
      "metadata": {
        "id": "73ffc89a-1022-48ca-b39c-8d9a7ac45a74"
      },
      "outputs": [],
      "source": [
        "# Insérez votre code ici pour créer la variable Membre de Famille\n",
        "df['Membre_de_Famille'] = df['SibSp'] + df['Parch']"
      ]
    },
    {
      "cell_type": "markdown",
      "id": "69b191f7-28b1-48f6-b2a4-3ee5d0b27276",
      "metadata": {
        "id": "69b191f7-28b1-48f6-b2a4-3ee5d0b27276"
      },
      "source": [
        "**Question** : Comment l’ajout de cette nouvelle variable pourrait-il aider un modèle de Machine Learning à mieux prédire la survie ?"
      ]
    },
    {
      "cell_type": "markdown",
      "id": "249991b6-7350-45b1-ab28-286927af722a",
      "metadata": {
        "id": "249991b6-7350-45b1-ab28-286927af722a"
      },
      "source": [
        "### Autres Étapes de Prétraitement\n",
        "\n",
        "D'autres transformations peuvent être nécessaires selon les besoins :\n",
        "   - **Transformation de l'âge en groupes d'âge** : Regroupez la colonne `Age` en catégories comme \"Enfant\", \"Adolescent\", \"Adulte\", \"Senior\".\n",
        "   - **Transformation logarithmique** : Réduisez l'impact des valeurs extrêmes en appliquant une transformation logarithmique. Par exemple, appliquez `np.log1p()` sur la colonne `Fare`."
      ]
    },
    {
      "cell_type": "code",
      "execution_count": 66,
      "id": "02448a04-0078-41ad-801d-f37dd7b09b0e",
      "metadata": {
        "id": "02448a04-0078-41ad-801d-f37dd7b09b0e"
      },
      "outputs": [],
      "source": [
        "# Insérez votre code ici pour les transformations supplémentaires et la visualisation avant/après\n",
        "df['Age_Group'] = pd.cut(df['Age'], bins=[0, 18, 30, 50, 100], labels=['Enfant', 'Adolescent', 'Adulte', 'Senior'])"
      ]
    },
    {
      "cell_type": "markdown",
      "id": "f743c5a7-e89d-4fdd-a619-ef662166e43d",
      "metadata": {
        "id": "f743c5a7-e89d-4fdd-a619-ef662166e43d"
      },
      "source": [
        "**Conversions des Transformations** :\n",
        "   - **Binning (ou catégorisation)** : Transformer des variables continues comme l'âge en groupes d'âge.\n",
        "   - **Log transformation** : Appliquée sur des valeurs numériques étendues pour en réduire la dispersion.\n",
        "\n",
        "**Question** : Comment ces transformations peuvent-elles affecter la distribution des données ? Dans quel cas sont-elles nécessaires ?"
      ]
    },
    {
      "cell_type": "markdown",
      "id": "cfeb1808-48d4-4b1e-98ca-03609dda5d4b",
      "metadata": {
        "id": "cfeb1808-48d4-4b1e-98ca-03609dda5d4b"
      },
      "source": [
        "---\n",
        "\n",
        "## **Résumé et Conclusion**\n",
        "\n",
        "Dans ce module, vous avez appris :\n",
        "- Découvert les applications du Machine Learning en entreprise.\n",
        "- L'importance de l'exploration des données et les outils pour l'EDA.\n",
        "- Les techniques de prétraitement des données : gestion des valeurs manquantes, encodage, normalisation, valeurs aberrantes, et **feature engineering**.\n",
        "\n",
        "Ces compétences sont cruciales pour préparer des données prêtes pour la modélisation en Machine Learning."
      ]
    }
  ],
  "metadata": {
    "kernelspec": {
      "display_name": "Python 3 (ipykernel)",
      "language": "python",
      "name": "python3"
    },
    "language_info": {
      "codemirror_mode": {
        "name": "ipython",
        "version": 3
      },
      "file_extension": ".py",
      "mimetype": "text/x-python",
      "name": "python",
      "nbconvert_exporter": "python",
      "pygments_lexer": "ipython3",
      "version": "3.12.6"
    },
    "colab": {
      "provenance": [],
      "include_colab_link": true
    }
  },
  "nbformat": 4,
  "nbformat_minor": 5
}