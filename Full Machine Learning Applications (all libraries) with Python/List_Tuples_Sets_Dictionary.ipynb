{
  "nbformat": 4,
  "nbformat_minor": 0,
  "metadata": {
    "colab": {
      "provenance": []
    },
    "kernelspec": {
      "name": "python3",
      "display_name": "Python 3"
    },
    "language_info": {
      "name": "python"
    }
  },
  "cells": [
    {
      "cell_type": "markdown",
      "source": [
        "#Types Of Objects in Python :\n",
        "\n",
        "*   Immutable Objects\n",
        "*   Mutable Objects\n",
        "\n",
        "# Immutable Objects:\n",
        "\n",
        "int /\n",
        "float /\n",
        "string /\n",
        "bool /\n",
        "tuple.\n",
        "\n",
        "#Mutable Objects:\n",
        "\n",
        "List /\n",
        "Set /\n",
        "Dictionary.\n",
        "\n"
      ],
      "metadata": {
        "id": "e0PBYk8KKIpf"
      }
    },
    {
      "cell_type": "markdown",
      "source": [
        "# List"
      ],
      "metadata": {
        "id": "XehkRd29LJxj"
      }
    },
    {
      "cell_type": "code",
      "source": [
        "# list should be included in the square brackets\n",
        "my_list = [1,2,3,4,5]\n",
        "print(my_list)\n",
        "type(my_list)"
      ],
      "metadata": {
        "colab": {
          "base_uri": "https://localhost:8080/"
        },
        "id": "bYuUPmwVLLvU",
        "outputId": "89ad034d-2ca5-4f8d-9841-5bbd126269a0"
      },
      "execution_count": 1,
      "outputs": [
        {
          "output_type": "stream",
          "name": "stdout",
          "text": [
            "[1, 2, 3, 4, 5]\n"
          ]
        },
        {
          "output_type": "execute_result",
          "data": {
            "text/plain": [
              "list"
            ]
          },
          "metadata": {},
          "execution_count": 1
        }
      ]
    },
    {
      "cell_type": "code",
      "source": [
        "# lists can have multiple data types\n",
        "my_list = [2, 3, 1.8, 'English', True]\n",
        "print(my_list)"
      ],
      "metadata": {
        "colab": {
          "base_uri": "https://localhost:8080/"
        },
        "id": "NFcWd0YaLddq",
        "outputId": "6a6ef7d8-62d5-4fd2-b141-e3a605c71b23"
      },
      "execution_count": 2,
      "outputs": [
        {
          "output_type": "stream",
          "name": "stdout",
          "text": [
            "[2, 3, 1.8, 'English', True]\n"
          ]
        }
      ]
    },
    {
      "cell_type": "markdown",
      "source": [
        "#Lists are Mutable --> Changeable"
      ],
      "metadata": {
        "id": "YrftWE_8LlNc"
      }
    },
    {
      "cell_type": "code",
      "source": [
        "# add elements to a list\n",
        "my_list = [2, 3, 1.8, 'English', True]\n",
        "my_list.append(6)\n",
        "# append = to add\n",
        "print(my_list)"
      ],
      "metadata": {
        "colab": {
          "base_uri": "https://localhost:8080/"
        },
        "id": "YX8PfXfxLo8s",
        "outputId": "35889edc-f87d-4914-9a32-16c034403c62"
      },
      "execution_count": 4,
      "outputs": [
        {
          "output_type": "stream",
          "name": "stdout",
          "text": [
            "[2, 3, 1.8, 'English', True, 6]\n"
          ]
        }
      ]
    },
    {
      "cell_type": "code",
      "source": [
        "# print elements of a list using their index\n",
        "print(my_list[0])\n",
        "print(my_list[2])"
      ],
      "metadata": {
        "colab": {
          "base_uri": "https://localhost:8080/"
        },
        "id": "tGHYBnliL2Ok",
        "outputId": "eb5f4351-b33c-4f5d-9a94-1a27f3f61507"
      },
      "execution_count": 5,
      "outputs": [
        {
          "output_type": "stream",
          "name": "stdout",
          "text": [
            "2\n",
            "1.8\n"
          ]
        }
      ]
    },
    {
      "cell_type": "code",
      "source": [
        "# lists allow duplicate values\n",
        "list_1 = [1,2,3,4,5,12,2,3]\n",
        "print(list_1)\n",
        ""
      ],
      "metadata": {
        "colab": {
          "base_uri": "https://localhost:8080/"
        },
        "id": "GXO4ctbDL4ns",
        "outputId": "3edacefc-0d6b-4909-9824-460f67d9810f"
      },
      "execution_count": 6,
      "outputs": [
        {
          "output_type": "stream",
          "name": "stdout",
          "text": [
            "[1, 2, 3, 4, 5, 12, 2, 3]\n"
          ]
        }
      ]
    },
    {
      "cell_type": "code",
      "source": [
        "print(len(list_1))"
      ],
      "metadata": {
        "colab": {
          "base_uri": "https://localhost:8080/"
        },
        "id": "oIR5mzuJL6Tc",
        "outputId": "80f3f15f-11bd-4f5a-8be8-30ecb8a6974b"
      },
      "execution_count": 7,
      "outputs": [
        {
          "output_type": "stream",
          "name": "stdout",
          "text": [
            "8\n"
          ]
        }
      ]
    },
    {
      "cell_type": "code",
      "source": [
        "# initiating an empty list\n",
        "list_2 = []\n",
        "print(list_2)"
      ],
      "metadata": {
        "colab": {
          "base_uri": "https://localhost:8080/"
        },
        "id": "34JV_S4zL8LM",
        "outputId": "e53ad158-a306-4528-c6a8-9b1a98da5d97"
      },
      "execution_count": 8,
      "outputs": [
        {
          "output_type": "stream",
          "name": "stdout",
          "text": [
            "[]\n"
          ]
        }
      ]
    },
    {
      "cell_type": "code",
      "source": [
        "list_2.append(5)\n",
        "print(list_2)"
      ],
      "metadata": {
        "colab": {
          "base_uri": "https://localhost:8080/"
        },
        "id": "_VVm-ZHfL-M0",
        "outputId": "d3ac0ec8-88e2-4262-b035-3546766d27c2"
      },
      "execution_count": 9,
      "outputs": [
        {
          "output_type": "stream",
          "name": "stdout",
          "text": [
            "[5]\n"
          ]
        }
      ]
    },
    {
      "cell_type": "code",
      "source": [
        "# delete an item in a list\n",
        "list_2 = [2, 3, 1.8, 'English', True, 6]\n",
        "print(list_2)\n",
        "\n",
        "del list_2[2]\n",
        "print(list_2)"
      ],
      "metadata": {
        "colab": {
          "base_uri": "https://localhost:8080/"
        },
        "id": "9LCPSVlmMCfc",
        "outputId": "1bf4f9f7-87de-49b9-c273-c44b48cfd1a9"
      },
      "execution_count": 10,
      "outputs": [
        {
          "output_type": "stream",
          "name": "stdout",
          "text": [
            "[2, 3, 1.8, 'English', True, 6]\n",
            "[2, 3, 'English', True, 6]\n"
          ]
        }
      ]
    },
    {
      "cell_type": "code",
      "source": [
        "# join two lists\n",
        "list_3 = [1,2,3,4,5]\n",
        "list_4 = [6,7,8,9,10]\n",
        "\n",
        "list_5 = list_3 + list_4\n",
        "print(list_5)"
      ],
      "metadata": {
        "colab": {
          "base_uri": "https://localhost:8080/"
        },
        "id": "9TXsjEGbMFKQ",
        "outputId": "bd1b2dc9-a372-43b3-b024-1e9cbbf0e235"
      },
      "execution_count": 11,
      "outputs": [
        {
          "output_type": "stream",
          "name": "stdout",
          "text": [
            "[1, 2, 3, 4, 5, 6, 7, 8, 9, 10]\n"
          ]
        }
      ]
    },
    {
      "cell_type": "code",
      "source": [
        "tuple_1 = (2,3,4,5)\n",
        "print(tuple_1)\n",
        "type(tuple_1)\n",
        ""
      ],
      "metadata": {
        "colab": {
          "base_uri": "https://localhost:8080/"
        },
        "id": "tSEtYyBnMKu7",
        "outputId": "a8ffa490-0d8b-4aa0-9a45-2f7bdf585c3a"
      },
      "execution_count": 12,
      "outputs": [
        {
          "output_type": "stream",
          "name": "stdout",
          "text": [
            "(2, 3, 4, 5)\n"
          ]
        },
        {
          "output_type": "execute_result",
          "data": {
            "text/plain": [
              "tuple"
            ]
          },
          "metadata": {},
          "execution_count": 12
        }
      ]
    },
    {
      "cell_type": "code",
      "source": [
        "# tuple allows multiple data types\n",
        "tuple_2 = (1,2,3.5, 'Machine Learning', False)\n",
        "print(tuple_2)"
      ],
      "metadata": {
        "colab": {
          "base_uri": "https://localhost:8080/"
        },
        "id": "BQhamY1LMLqI",
        "outputId": "ce220572-793e-43f5-c288-7b2b1b96c403"
      },
      "execution_count": 14,
      "outputs": [
        {
          "output_type": "stream",
          "name": "stdout",
          "text": [
            "(1, 2, 3.5, 'Machine Learning', False)\n"
          ]
        }
      ]
    },
    {
      "cell_type": "code",
      "source": [
        "# converting  a list to a tuple\n",
        "\n",
        "my_list = [3,4,5,6]\n",
        "print(my_list)\n",
        "\n",
        "my_tuple = tuple(my_list)\n",
        "print(my_tuple)"
      ],
      "metadata": {
        "colab": {
          "base_uri": "https://localhost:8080/"
        },
        "id": "2gNt6YKFMP-n",
        "outputId": "34ca71cb-c12d-4f3a-b62c-d2e9b046ea6f"
      },
      "execution_count": 15,
      "outputs": [
        {
          "output_type": "stream",
          "name": "stdout",
          "text": [
            "[3, 4, 5, 6]\n",
            "(3, 4, 5, 6)\n"
          ]
        }
      ]
    },
    {
      "cell_type": "code",
      "source": [
        "print(my_tuple[0])\n",
        "print(my_tuple[1])"
      ],
      "metadata": {
        "colab": {
          "base_uri": "https://localhost:8080/"
        },
        "id": "b60pLM0PMSNp",
        "outputId": "b5ad68c7-724b-4623-eda4-af0830c618d0"
      },
      "execution_count": 16,
      "outputs": [
        {
          "output_type": "stream",
          "name": "stdout",
          "text": [
            "3\n",
            "4\n"
          ]
        }
      ]
    },
    {
      "cell_type": "markdown",
      "source": [
        "#Tuples are immutable --> Unchangeable"
      ],
      "metadata": {
        "id": "sZ3dV2kyMUZJ"
      }
    },
    {
      "cell_type": "code",
      "source": [
        "my_tuple.append(7)"
      ],
      "metadata": {
        "colab": {
          "base_uri": "https://localhost:8080/",
          "height": 141
        },
        "id": "MhrHfckdMX3B",
        "outputId": "bbeb1b4e-980b-497d-c0bb-15996709e058"
      },
      "execution_count": 17,
      "outputs": [
        {
          "output_type": "error",
          "ename": "AttributeError",
          "evalue": "'tuple' object has no attribute 'append'",
          "traceback": [
            "\u001b[0;31m---------------------------------------------------------------------------\u001b[0m",
            "\u001b[0;31mAttributeError\u001b[0m                            Traceback (most recent call last)",
            "\u001b[0;32m<ipython-input-17-bfae475f6e56>\u001b[0m in \u001b[0;36m<cell line: 1>\u001b[0;34m()\u001b[0m\n\u001b[0;32m----> 1\u001b[0;31m \u001b[0mmy_tuple\u001b[0m\u001b[0;34m.\u001b[0m\u001b[0mappend\u001b[0m\u001b[0;34m(\u001b[0m\u001b[0;36m7\u001b[0m\u001b[0;34m)\u001b[0m\u001b[0;34m\u001b[0m\u001b[0;34m\u001b[0m\u001b[0m\n\u001b[0m",
            "\u001b[0;31mAttributeError\u001b[0m: 'tuple' object has no attribute 'append'"
          ]
        }
      ]
    },
    {
      "cell_type": "code",
      "source": [
        "print(len(my_tuple))"
      ],
      "metadata": {
        "colab": {
          "base_uri": "https://localhost:8080/"
        },
        "id": "mZl6yV3rMb4q",
        "outputId": "758ddecd-025a-4a4e-feda-2a9273f1d4f7"
      },
      "execution_count": 18,
      "outputs": [
        {
          "output_type": "stream",
          "name": "stdout",
          "text": [
            "4\n"
          ]
        }
      ]
    },
    {
      "cell_type": "code",
      "source": [
        "# set --> Curly brackets\n",
        "my_set = {1,2,3,78,5}\n",
        "print(my_set)\n",
        "type(my_set)"
      ],
      "metadata": {
        "colab": {
          "base_uri": "https://localhost:8080/"
        },
        "id": "3lRdXVKAMe5i",
        "outputId": "122dfd91-72cd-4b73-f88f-870912f62755"
      },
      "execution_count": 19,
      "outputs": [
        {
          "output_type": "stream",
          "name": "stdout",
          "text": [
            "{1, 2, 3, 5, 78}\n"
          ]
        },
        {
          "output_type": "execute_result",
          "data": {
            "text/plain": [
              "set"
            ]
          },
          "metadata": {},
          "execution_count": 19
        }
      ]
    },
    {
      "cell_type": "code",
      "source": [
        "print(my_set[0])"
      ],
      "metadata": {
        "colab": {
          "base_uri": "https://localhost:8080/",
          "height": 141
        },
        "id": "886ZpbzaMjl0",
        "outputId": "60659daf-748f-4ac0-88c8-8e7f0467172a"
      },
      "execution_count": 20,
      "outputs": [
        {
          "output_type": "error",
          "ename": "TypeError",
          "evalue": "'set' object is not subscriptable",
          "traceback": [
            "\u001b[0;31m---------------------------------------------------------------------------\u001b[0m",
            "\u001b[0;31mTypeError\u001b[0m                                 Traceback (most recent call last)",
            "\u001b[0;32m<ipython-input-20-502d757570ee>\u001b[0m in \u001b[0;36m<cell line: 1>\u001b[0;34m()\u001b[0m\n\u001b[0;32m----> 1\u001b[0;31m \u001b[0mprint\u001b[0m\u001b[0;34m(\u001b[0m\u001b[0mmy_set\u001b[0m\u001b[0;34m[\u001b[0m\u001b[0;36m0\u001b[0m\u001b[0;34m]\u001b[0m\u001b[0;34m)\u001b[0m\u001b[0;34m\u001b[0m\u001b[0;34m\u001b[0m\u001b[0m\n\u001b[0m",
            "\u001b[0;31mTypeError\u001b[0m: 'set' object is not subscriptable"
          ]
        }
      ]
    },
    {
      "cell_type": "code",
      "source": [
        "# convert a list to a set\n",
        "list_5 = [4,5,6,7,8]\n",
        "\n",
        "x = set(list_5)\n",
        "print(x)"
      ],
      "metadata": {
        "colab": {
          "base_uri": "https://localhost:8080/"
        },
        "id": "0Xnt2yCmMnuM",
        "outputId": "0d15dd25-a873-456e-c842-c1a1761c52b3"
      },
      "execution_count": 21,
      "outputs": [
        {
          "output_type": "stream",
          "name": "stdout",
          "text": [
            "{4, 5, 6, 7, 8}\n"
          ]
        }
      ]
    },
    {
      "cell_type": "code",
      "source": [
        "# set does not allow duplicate values\n",
        "set_3 = {1,2,3,4,5,1,2,3}\n",
        "print(set_3)\n",
        ""
      ],
      "metadata": {
        "colab": {
          "base_uri": "https://localhost:8080/"
        },
        "id": "uFJDycYqMs7T",
        "outputId": "b52d6a6a-a15e-40bc-ccb7-fcc7e89e76b5"
      },
      "execution_count": 22,
      "outputs": [
        {
          "output_type": "stream",
          "name": "stdout",
          "text": [
            "{1, 2, 3, 4, 5}\n"
          ]
        }
      ]
    },
    {
      "cell_type": "markdown",
      "source": [
        "#Dictionary"
      ],
      "metadata": {
        "id": "EDPD_dYKMwM2"
      }
    },
    {
      "cell_type": "code",
      "source": [
        "\n",
        "my_dictionary = {'name':'Hoda','age':24,'country':'France'}\n",
        "print(my_dictionary)\n",
        "type(my_dictionary)\n",
        ""
      ],
      "metadata": {
        "colab": {
          "base_uri": "https://localhost:8080/"
        },
        "id": "lH0H3vvQMxTu",
        "outputId": "f29acd77-1a31-46fa-ca5d-45e56d08c248"
      },
      "execution_count": 23,
      "outputs": [
        {
          "output_type": "stream",
          "name": "stdout",
          "text": [
            "{'name': 'Hoda', 'age': 24, 'country': 'France'}\n"
          ]
        },
        {
          "output_type": "execute_result",
          "data": {
            "text/plain": [
              "dict"
            ]
          },
          "metadata": {},
          "execution_count": 23
        }
      ]
    },
    {
      "cell_type": "code",
      "source": [
        "print(my_dictionary['name'])\n",
        "print(my_dictionary['age'])\n",
        "print(my_dictionary['country'])"
      ],
      "metadata": {
        "colab": {
          "base_uri": "https://localhost:8080/"
        },
        "id": "OmwuVtwcM5ym",
        "outputId": "73468ac5-51db-4357-fec5-5f691e68c70c"
      },
      "execution_count": 24,
      "outputs": [
        {
          "output_type": "stream",
          "name": "stdout",
          "text": [
            "Hoda\n",
            "24\n",
            "France\n"
          ]
        }
      ]
    },
    {
      "cell_type": "code",
      "source": [
        "# dictionary does not allow duplicate values\n",
        "dictionary_2 = {'name':'Hoda','age':24,'country':'France','name':'Hoda','age':24,'country':'France'}\n",
        "print(dictionary_2)"
      ],
      "metadata": {
        "colab": {
          "base_uri": "https://localhost:8080/"
        },
        "id": "Ab_7UceeM88u",
        "outputId": "b0926780-8833-4201-f488-815e83b141e1"
      },
      "execution_count": 26,
      "outputs": [
        {
          "output_type": "stream",
          "name": "stdout",
          "text": [
            "{'name': 'Hoda', 'age': 24, 'country': 'France'}\n"
          ]
        }
      ]
    }
  ]
}